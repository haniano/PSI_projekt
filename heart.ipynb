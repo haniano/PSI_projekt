{
 "cells": [
  {
   "cell_type": "code",
   "execution_count": 30,
   "metadata": {
    "collapsed": true
   },
   "outputs": [],
   "source": [
    "import numpy as np\n",
    "import pandas as pd\n",
    "import matplotlib.pyplot as plt\n",
    "import seaborn as sns\n",
    "from sklearn.model_selection import train_test_split\n",
    "from sklearn import metrics\n",
    "from sklearn.pipeline import make_pipeline\n",
    "from sklearn.model_selection import GridSearchCV\n",
    "from sklearn.svm import SVR\n",
    "from sklearn import model_selection\n",
    "from sklearn.svm import SVC"
   ]
  },
  {
   "cell_type": "code",
   "execution_count": 31,
   "outputs": [
    {
     "data": {
      "text/plain": "   age  sex  cp  trtbps  chol  fbs  restecg  thalachh  exng  oldpeak  slp  \\\n0   63    1   3     145   233    1        0       150     0      2.3    0   \n1   37    1   2     130   250    0        1       187     0      3.5    0   \n2   41    0   1     130   204    0        0       172     0      1.4    2   \n3   56    1   1     120   236    0        1       178     0      0.8    2   \n4   57    0   0     120   354    0        1       163     1      0.6    2   \n5   57    1   0     140   192    0        1       148     0      0.4    1   \n6   56    0   1     140   294    0        0       153     0      1.3    1   \n7   44    1   1     120   263    0        1       173     0      0.0    2   \n8   52    1   2     172   199    1        1       162     0      0.5    2   \n9   57    1   2     150   168    0        1       174     0      1.6    2   \n\n   caa  thall  output  \n0    0      1       1  \n1    0      2       1  \n2    0      2       1  \n3    0      2       1  \n4    0      2       1  \n5    0      1       1  \n6    0      2       1  \n7    0      3       1  \n8    0      3       1  \n9    0      2       1  ",
      "text/html": "<div>\n<style scoped>\n    .dataframe tbody tr th:only-of-type {\n        vertical-align: middle;\n    }\n\n    .dataframe tbody tr th {\n        vertical-align: top;\n    }\n\n    .dataframe thead th {\n        text-align: right;\n    }\n</style>\n<table border=\"1\" class=\"dataframe\">\n  <thead>\n    <tr style=\"text-align: right;\">\n      <th></th>\n      <th>age</th>\n      <th>sex</th>\n      <th>cp</th>\n      <th>trtbps</th>\n      <th>chol</th>\n      <th>fbs</th>\n      <th>restecg</th>\n      <th>thalachh</th>\n      <th>exng</th>\n      <th>oldpeak</th>\n      <th>slp</th>\n      <th>caa</th>\n      <th>thall</th>\n      <th>output</th>\n    </tr>\n  </thead>\n  <tbody>\n    <tr>\n      <th>0</th>\n      <td>63</td>\n      <td>1</td>\n      <td>3</td>\n      <td>145</td>\n      <td>233</td>\n      <td>1</td>\n      <td>0</td>\n      <td>150</td>\n      <td>0</td>\n      <td>2.3</td>\n      <td>0</td>\n      <td>0</td>\n      <td>1</td>\n      <td>1</td>\n    </tr>\n    <tr>\n      <th>1</th>\n      <td>37</td>\n      <td>1</td>\n      <td>2</td>\n      <td>130</td>\n      <td>250</td>\n      <td>0</td>\n      <td>1</td>\n      <td>187</td>\n      <td>0</td>\n      <td>3.5</td>\n      <td>0</td>\n      <td>0</td>\n      <td>2</td>\n      <td>1</td>\n    </tr>\n    <tr>\n      <th>2</th>\n      <td>41</td>\n      <td>0</td>\n      <td>1</td>\n      <td>130</td>\n      <td>204</td>\n      <td>0</td>\n      <td>0</td>\n      <td>172</td>\n      <td>0</td>\n      <td>1.4</td>\n      <td>2</td>\n      <td>0</td>\n      <td>2</td>\n      <td>1</td>\n    </tr>\n    <tr>\n      <th>3</th>\n      <td>56</td>\n      <td>1</td>\n      <td>1</td>\n      <td>120</td>\n      <td>236</td>\n      <td>0</td>\n      <td>1</td>\n      <td>178</td>\n      <td>0</td>\n      <td>0.8</td>\n      <td>2</td>\n      <td>0</td>\n      <td>2</td>\n      <td>1</td>\n    </tr>\n    <tr>\n      <th>4</th>\n      <td>57</td>\n      <td>0</td>\n      <td>0</td>\n      <td>120</td>\n      <td>354</td>\n      <td>0</td>\n      <td>1</td>\n      <td>163</td>\n      <td>1</td>\n      <td>0.6</td>\n      <td>2</td>\n      <td>0</td>\n      <td>2</td>\n      <td>1</td>\n    </tr>\n    <tr>\n      <th>5</th>\n      <td>57</td>\n      <td>1</td>\n      <td>0</td>\n      <td>140</td>\n      <td>192</td>\n      <td>0</td>\n      <td>1</td>\n      <td>148</td>\n      <td>0</td>\n      <td>0.4</td>\n      <td>1</td>\n      <td>0</td>\n      <td>1</td>\n      <td>1</td>\n    </tr>\n    <tr>\n      <th>6</th>\n      <td>56</td>\n      <td>0</td>\n      <td>1</td>\n      <td>140</td>\n      <td>294</td>\n      <td>0</td>\n      <td>0</td>\n      <td>153</td>\n      <td>0</td>\n      <td>1.3</td>\n      <td>1</td>\n      <td>0</td>\n      <td>2</td>\n      <td>1</td>\n    </tr>\n    <tr>\n      <th>7</th>\n      <td>44</td>\n      <td>1</td>\n      <td>1</td>\n      <td>120</td>\n      <td>263</td>\n      <td>0</td>\n      <td>1</td>\n      <td>173</td>\n      <td>0</td>\n      <td>0.0</td>\n      <td>2</td>\n      <td>0</td>\n      <td>3</td>\n      <td>1</td>\n    </tr>\n    <tr>\n      <th>8</th>\n      <td>52</td>\n      <td>1</td>\n      <td>2</td>\n      <td>172</td>\n      <td>199</td>\n      <td>1</td>\n      <td>1</td>\n      <td>162</td>\n      <td>0</td>\n      <td>0.5</td>\n      <td>2</td>\n      <td>0</td>\n      <td>3</td>\n      <td>1</td>\n    </tr>\n    <tr>\n      <th>9</th>\n      <td>57</td>\n      <td>1</td>\n      <td>2</td>\n      <td>150</td>\n      <td>168</td>\n      <td>0</td>\n      <td>1</td>\n      <td>174</td>\n      <td>0</td>\n      <td>1.6</td>\n      <td>2</td>\n      <td>0</td>\n      <td>2</td>\n      <td>1</td>\n    </tr>\n  </tbody>\n</table>\n</div>"
     },
     "execution_count": 31,
     "metadata": {},
     "output_type": "execute_result"
    }
   ],
   "source": [
    "dataSet = pd.read_csv('heart.csv')\n",
    "dataSet.head(10)\n"
   ],
   "metadata": {
    "collapsed": false,
    "pycharm": {
     "name": "#%%\n"
    }
   }
  },
  {
   "cell_type": "code",
   "execution_count": 32,
   "outputs": [
    {
     "data": {
      "text/plain": "(303, 14)"
     },
     "execution_count": 32,
     "metadata": {},
     "output_type": "execute_result"
    }
   ],
   "source": [
    "dataSet.shape"
   ],
   "metadata": {
    "collapsed": false,
    "pycharm": {
     "name": "#%%\n"
    }
   }
  },
  {
   "cell_type": "code",
   "execution_count": 33,
   "outputs": [
    {
     "name": "stdout",
     "output_type": "stream",
     "text": [
      "Index(['age', 'sex', 'cp', 'trtbps', 'chol', 'fbs', 'restecg', 'thalachh',\n",
      "       'exng', 'oldpeak', 'slp', 'caa', 'thall', 'output'],\n",
      "      dtype='object')\n",
      "age :  0\n",
      "sex :  0\n",
      "cp :  0\n",
      "trtbps :  0\n",
      "chol :  0\n",
      "fbs :  0\n",
      "restecg :  0\n",
      "thalachh :  0\n",
      "exng :  0\n",
      "oldpeak :  0\n",
      "slp :  0\n",
      "caa :  0\n",
      "thall :  0\n",
      "output :  0\n"
     ]
    }
   ],
   "source": [
    "print(dataSet.columns)\n",
    "for column in dataSet.columns:\n",
    "    missingCol = len(dataSet[dataSet[column].isna()])\n",
    "    print(column, \": \", missingCol)"
   ],
   "metadata": {
    "collapsed": false,
    "pycharm": {
     "name": "#%%\n"
    }
   }
  },
  {
   "cell_type": "code",
   "execution_count": 34,
   "outputs": [],
   "source": [
    "indicators = ['age', 'sex', 'cp', 'trtbps', 'chol', 'fbs', 'restecg', 'thalachh',\n",
    "              'exng', 'oldpeak', 'slp', 'caa', 'thall']"
   ],
   "metadata": {
    "collapsed": false,
    "pycharm": {
     "name": "#%%\n"
    }
   }
  },
  {
   "cell_type": "code",
   "execution_count": 35,
   "outputs": [],
   "source": [
    "x_train, x_test, y_train, y_test = train_test_split(dataSet[indicators], dataSet['output'], test_size=0.2, random_state=0)"
   ],
   "metadata": {
    "collapsed": false,
    "pycharm": {
     "name": "#%%\n"
    }
   }
  },
  {
   "cell_type": "code",
   "execution_count": 36,
   "outputs": [],
   "source": [
    "#sns.pairplot(dataSet)"
   ],
   "metadata": {
    "collapsed": false,
    "pycharm": {
     "name": "#%%\n"
    }
   }
  },
  {
   "cell_type": "code",
   "execution_count": 37,
   "outputs": [
    {
     "data": {
      "text/plain": "array([0.08345966, 0.07069618, 0.37691689, 0.01856554, 0.02360732,\n       0.        , 0.02320693, 0.08716439, 0.        , 0.03929215,\n       0.        , 0.1913626 , 0.08572834])"
     },
     "execution_count": 37,
     "metadata": {},
     "output_type": "execute_result"
    }
   ],
   "source": [
    "from sklearn.tree import DecisionTreeClassifier\n",
    "\n",
    "tree1 = DecisionTreeClassifier(max_depth=4, random_state=0)\n",
    "tree1.fit(x_train, y_train)\n",
    "tree1.feature_importances_"
   ],
   "metadata": {
    "collapsed": false,
    "pycharm": {
     "name": "#%%\n"
    }
   }
  },
  {
   "cell_type": "code",
   "execution_count": 38,
   "outputs": [
    {
     "data": {
      "text/plain": "<BarContainer object of 13 artists>"
     },
     "execution_count": 38,
     "metadata": {},
     "output_type": "execute_result"
    },
    {
     "data": {
      "text/plain": "<Figure size 432x288 with 1 Axes>",
      "image/png": "[encoded data removed]"
     },
     "metadata": {
      "needs_background": "light"
     },
     "output_type": "display_data"
    }
   ],
   "source": [
    "plt.barh(y=indicators, width=tree1.feature_importances_)"
   ],
   "metadata": {
    "collapsed": false,
    "pycharm": {
     "name": "#%%\n"
    }
   }
  },
  {
   "cell_type": "code",
   "execution_count": 39,
   "outputs": [
    {
     "name": "stdout",
     "output_type": "stream",
     "text": [
      "Model Accuracy: 0.8032786885245902\n"
     ]
    }
   ],
   "source": [
    "y_val_pred = tree1.predict(x_test)\n",
    "print(\"Model Accuracy:\", metrics.accuracy_score(y_test, y_val_pred))"
   ],
   "metadata": {
    "collapsed": false,
    "pycharm": {
     "name": "#%%\n"
    }
   }
  },
  {
   "cell_type": "code",
   "execution_count": 40,
   "outputs": [
    {
     "data": {
      "text/plain": "{'svc__C': 10, 'svc__gamma': 0.001}"
     },
     "execution_count": 40,
     "metadata": {},
     "output_type": "execute_result"
    }
   ],
   "source": [
    "kfold = model_selection.KFold(n_splits=10, random_state=None)\n",
    "param_grid = {'svc__C': [0.001, 0.01, 0.1, 1, 10, 100],\n",
    "              'svc__gamma': [0.001, 0.01, 0.1, 1, 10, 100, 1000]\n",
    "              }\n",
    "grid = GridSearchCV(make_pipeline(SVC(kernel='rbf', gamma=0.1)),\n",
    "                    param_grid,\n",
    "                    cv=kfold,\n",
    "                    refit=True)\n",
    "\n",
    "grid.fit(x_train, y_train)\n",
    "grid.best_params_"
   ],
   "metadata": {
    "collapsed": false,
    "pycharm": {
     "name": "#%%\n"
    }
   }
  },
  {
   "cell_type": "code",
   "execution_count": 41,
   "outputs": [],
   "source": [
    "def heatmap(values, xlabel, ylabel, xticklabels, yticklabels, cmap=None,\n",
    "            vmin=None, vmax=None, ax=None, fmt=\"%0.2f\"):\n",
    "    if ax is None:\n",
    "        ax = plt.gca()\n",
    "    # plot the mean cross-validation scores\n",
    "    img = ax.pcolor(values, cmap=cmap, vmin=vmin, vmax=vmax)\n",
    "    img.update_scalarmappable()\n",
    "    ax.set_xlabel(xlabel)\n",
    "    ax.set_ylabel(ylabel)\n",
    "    ax.set_xticks(np.arange(len(xticklabels)) + .5)\n",
    "    ax.set_yticks(np.arange(len(yticklabels)) + .5)\n",
    "    ax.set_xticklabels(xticklabels)\n",
    "    ax.set_yticklabels(yticklabels)\n",
    "    ax.set_aspect(1)\n",
    "\n",
    "    for p, color, value in zip(img.get_paths(), img.get_facecolors(),\n",
    "                               img.get_array()):\n",
    "        x, y = p.vertices[:-2, :].mean(0)\n",
    "        if np.mean(color[:3]) > 0.5:\n",
    "            c = 'k'\n",
    "        else:\n",
    "            c = 'w'\n",
    "        ax.text(x, y, fmt % value, color=c, ha=\"center\", va=\"center\")\n",
    "    return img"
   ],
   "metadata": {
    "collapsed": false,
    "pycharm": {
     "name": "#%%\n"
    }
   }
  },
  {
   "cell_type": "code",
   "execution_count": 42,
   "outputs": [
    {
     "data": {
      "text/plain": "<Figure size 432x288 with 1 Axes>",
      "image/png": "[encoded data removed]"
     },
     "metadata": {
      "needs_background": "light"
     },
     "output_type": "display_data"
    }
   ],
   "source": [
    "results = pd.DataFrame(grid.cv_results_)\n",
    "scores = np.array(results.mean_test_score).reshape(6, 7)\n",
    "# plot the mean cross-validation scores\n",
    "heatmap(scores, xlabel='gamma', xticklabels=grid.param_grid['svc__gamma'], ylabel='C',\n",
    "        yticklabels=grid.param_grid['svc__C'], cmap=\"viridis\")\n",
    "plt.show()"
   ],
   "metadata": {
    "collapsed": false,
    "pycharm": {
     "name": "#%%\n"
    }
   }
  },
  {
   "cell_type": "code",
   "execution_count": 43,
   "outputs": [
    {
     "name": "stdout",
     "output_type": "stream",
     "text": [
      "Model Accuracy: 0.7049180327868853\n"
     ]
    }
   ],
   "source": [
    "model = SVC(C=10, kernel='rbf', gamma=0.001)\n",
    "model.fit(x_train, y_train)\n",
    "y_val_pred = model.predict(x_test)\n",
    "print(\"Model Accuracy:\", metrics.accuracy_score(y_test, y_val_pred))"
   ],
   "metadata": {
    "collapsed": false,
    "pycharm": {
     "name": "#%%\n"
    }
   }
  },
  {
   "cell_type": "markdown",
   "source": [],
   "metadata": {
    "collapsed": false
   }
  },
  {
   "cell_type": "code",
   "execution_count": 44,
   "outputs": [],
   "source": [
    "indicators.remove('slp')\n",
    "indicators.remove('fbs')\n",
    "indicators.remove('exng')"
   ],
   "metadata": {
    "collapsed": false,
    "pycharm": {
     "name": "#%%\n"
    }
   }
  },
  {
   "cell_type": "code",
   "execution_count": 45,
   "outputs": [],
   "source": [
    "x_train, x_test, y_train, y_test = train_test_split(dataSet[indicators], dataSet['output'], test_size=0.2, random_state=0)"
   ],
   "metadata": {
    "collapsed": false,
    "pycharm": {
     "name": "#%%\n"
    }
   }
  },
  {
   "cell_type": "code",
   "execution_count": 46,
   "outputs": [
    {
     "data": {
      "text/plain": "{'svc__C': 10, 'svc__gamma': 0.001}"
     },
     "execution_count": 46,
     "metadata": {},
     "output_type": "execute_result"
    }
   ],
   "source": [
    "kfold = model_selection.KFold(n_splits=10, random_state=None)\n",
    "param_grid = {'svc__C': [0.001, 0.01, 0.1, 1, 10, 100],\n",
    "              'svc__gamma': [0.001, 0.01, 0.1, 1, 10, 100, 1000]\n",
    "              }\n",
    "grid2 = GridSearchCV(make_pipeline(SVC(kernel='rbf', gamma=0.1)),\n",
    "                     param_grid,\n",
    "                     cv=kfold,\n",
    "                     refit=True)\n",
    "\n",
    "grid2.fit(x_train, y_train)\n",
    "grid2.best_params_"
   ],
   "metadata": {
    "collapsed": false,
    "pycharm": {
     "name": "#%%\n"
    }
   }
  },
  {
   "cell_type": "code",
   "execution_count": 47,
   "outputs": [
    {
     "data": {
      "text/plain": "<Figure size 432x288 with 1 Axes>",
      "image/png": "[encoded data removed]"
     },
     "metadata": {
      "needs_background": "light"
     },
     "output_type": "display_data"
    }
   ],
   "source": [
    "results = pd.DataFrame(grid2.cv_results_)\n",
    "scores = np.array(results.mean_test_score).reshape(6, 7)\n",
    "# plot the mean cross-validation scores\n",
    "heatmap(scores, xlabel='gamma', xticklabels=grid2.param_grid['svc__gamma'], ylabel='C',\n",
    "        yticklabels=grid2.param_grid['svc__C'], cmap=\"viridis\")\n",
    "plt.show()"
   ],
   "metadata": {
    "collapsed": false,
    "pycharm": {
     "name": "#%%\n"
    }
   }
  },
  {
   "cell_type": "code",
   "execution_count": 48,
   "outputs": [
    {
     "name": "stdout",
     "output_type": "stream",
     "text": [
      "Model Accuracy: 0.6557377049180327\n"
     ]
    }
   ],
   "source": [
    "model2 = SVC(C=1, kernel='rbf', gamma=0.001)\n",
    "model2.fit(x_train, y_train)\n",
    "y_val_pred = model2.predict(x_test)\n",
    "print(\"Model Accuracy:\", metrics.accuracy_score(y_test, y_val_pred))"
   ],
   "metadata": {
    "collapsed": false,
    "pycharm": {
     "name": "#%%\n"
    }
   }
  },
  {
   "cell_type": "code",
   "execution_count": 49,
   "outputs": [
    {
     "name": "stdout",
     "output_type": "stream",
     "text": [
      "Model Accuracy: 0.8524590163934426\n"
     ]
    }
   ],
   "source": [
    "from sklearn.ensemble import RandomForestClassifier\n",
    "\n",
    "model3 = RandomForestClassifier(n_estimators=500, max_leaf_nodes=16, n_jobs=-1, random_state=42)\n",
    "model3.fit(x_train, y_train)\n",
    "y_val_pred = model3.predict(x_test)\n",
    "print(\"Model Accuracy:\", metrics.accuracy_score(y_test, y_val_pred))"
   ],
   "metadata": {
    "collapsed": false,
    "pycharm": {
     "name": "#%%\n"
    }
   }
  },
  {
   "cell_type": "code",
   "execution_count": 50,
   "outputs": [
    {
     "data": {
      "text/plain": "array([0.1020252 , 0.07069618, 0.37691689, 0.        , 0.02360732,\n       0.02320693, 0.08716439, 0.03929215, 0.1913626 , 0.08572834])"
     },
     "execution_count": 50,
     "metadata": {},
     "output_type": "execute_result"
    }
   ],
   "source": [
    "from sklearn.tree import DecisionTreeClassifier\n",
    "\n",
    "tree = DecisionTreeClassifier(max_depth=4, random_state=0)\n",
    "tree.fit(x_train, y_train)\n",
    "tree.feature_importances_"
   ],
   "metadata": {
    "collapsed": false,
    "pycharm": {
     "name": "#%%\n"
    }
   }
  },
  {
   "cell_type": "code",
   "execution_count": 51,
   "outputs": [
    {
     "data": {
      "text/plain": "<BarContainer object of 10 artists>"
     },
     "execution_count": 51,
     "metadata": {},
     "output_type": "execute_result"
    },
    {
     "data": {
      "text/plain": "<Figure size 432x288 with 1 Axes>",
      "image/png": "[encoded data removed]"
     },
     "metadata": {
      "needs_background": "light"
     },
     "output_type": "display_data"
    }
   ],
   "source": [
    "plt.barh(y=indicators, width=tree.feature_importances_)"
   ],
   "metadata": {
    "collapsed": false,
    "pycharm": {
     "name": "#%%\n"
    }
   }
  },
  {
   "cell_type": "code",
   "execution_count": 52,
   "outputs": [
    {
     "name": "stdout",
     "output_type": "stream",
     "text": [
      "Model Accuracy: 0.8032786885245902\n"
     ]
    }
   ],
   "source": [
    "y_val_pred = tree.predict(x_test)\n",
    "print(\"Model Accuracy:\", metrics.accuracy_score(y_test, y_val_pred))"
   ],
   "metadata": {
    "collapsed": false,
    "pycharm": {
     "name": "#%%\n"
    }
   }
  },
  {
   "cell_type": "code",
   "execution_count": 53,
   "outputs": [
    {
     "name": "stdout",
     "output_type": "stream",
     "text": [
      "Epoch 1/100\n",
      "8/8 [==============================] - 1s 4ms/step - loss: 0.6435 - accuracy: 0.6240\n",
      "Epoch 2/100\n",
      "8/8 [==============================] - 0s 3ms/step - loss: 0.6203 - accuracy: 0.6529\n",
      "Epoch 3/100\n",
      "8/8 [==============================] - 0s 3ms/step - loss: 0.5993 - accuracy: 0.6860\n",
      "Epoch 4/100\n",
      "8/8 [==============================] - 0s 4ms/step - loss: 0.5808 - accuracy: 0.6942\n",
      "Epoch 5/100\n",
      "8/8 [==============================] - 0s 5ms/step - loss: 0.5645 - accuracy: 0.7025\n",
      "Epoch 6/100\n",
      "8/8 [==============================] - 0s 3ms/step - loss: 0.5498 - accuracy: 0.7149\n",
      "Epoch 7/100\n",
      "8/8 [==============================] - 0s 3ms/step - loss: 0.5359 - accuracy: 0.7314\n",
      "Epoch 8/100\n",
      "8/8 [==============================] - 0s 3ms/step - loss: 0.5239 - accuracy: 0.7438\n",
      "Epoch 9/100\n",
      "8/8 [==============================] - 0s 3ms/step - loss: 0.5129 - accuracy: 0.7769\n",
      "Epoch 10/100\n",
      "8/8 [==============================] - 0s 3ms/step - loss: 0.5030 - accuracy: 0.7769\n",
      "Epoch 11/100\n",
      "8/8 [==============================] - 0s 3ms/step - loss: 0.4942 - accuracy: 0.7727\n",
      "Epoch 12/100\n",
      "8/8 [==============================] - 0s 3ms/step - loss: 0.4858 - accuracy: 0.7851\n",
      "Epoch 13/100\n",
      "8/8 [==============================] - 0s 3ms/step - loss: 0.4781 - accuracy: 0.7893\n",
      "Epoch 14/100\n",
      "8/8 [==============================] - 0s 4ms/step - loss: 0.4712 - accuracy: 0.7975\n",
      "Epoch 15/100\n",
      "8/8 [==============================] - 0s 3ms/step - loss: 0.4648 - accuracy: 0.7975\n",
      "Epoch 16/100\n",
      "8/8 [==============================] - 0s 4ms/step - loss: 0.4590 - accuracy: 0.8058\n",
      "Epoch 17/100\n",
      "8/8 [==============================] - 0s 3ms/step - loss: 0.4532 - accuracy: 0.8058\n",
      "Epoch 18/100\n",
      "8/8 [==============================] - 0s 3ms/step - loss: 0.4484 - accuracy: 0.8058\n",
      "Epoch 19/100\n",
      "8/8 [==============================] - 0s 3ms/step - loss: 0.4437 - accuracy: 0.8182\n",
      "Epoch 20/100\n",
      "8/8 [==============================] - 0s 3ms/step - loss: 0.4396 - accuracy: 0.8140\n",
      "Epoch 21/100\n",
      "8/8 [==============================] - 0s 3ms/step - loss: 0.4354 - accuracy: 0.8099\n",
      "Epoch 22/100\n",
      "8/8 [==============================] - 0s 3ms/step - loss: 0.4318 - accuracy: 0.8058\n",
      "Epoch 23/100\n",
      "8/8 [==============================] - 0s 3ms/step - loss: 0.4283 - accuracy: 0.8099\n",
      "Epoch 24/100\n",
      "8/8 [==============================] - 0s 3ms/step - loss: 0.4252 - accuracy: 0.8140\n",
      "Epoch 25/100\n",
      "8/8 [==============================] - 0s 2ms/step - loss: 0.4222 - accuracy: 0.8140\n",
      "Epoch 26/100\n",
      "8/8 [==============================] - 0s 3ms/step - loss: 0.4196 - accuracy: 0.8099\n",
      "Epoch 27/100\n",
      "8/8 [==============================] - 0s 2ms/step - loss: 0.4168 - accuracy: 0.8099\n",
      "Epoch 28/100\n",
      "8/8 [==============================] - 0s 2ms/step - loss: 0.4144 - accuracy: 0.8099\n",
      "Epoch 29/100\n",
      "8/8 [==============================] - 0s 3ms/step - loss: 0.4120 - accuracy: 0.8140\n",
      "Epoch 30/100\n",
      "8/8 [==============================] - 0s 3ms/step - loss: 0.4099 - accuracy: 0.8140\n",
      "Epoch 31/100\n",
      "8/8 [==============================] - 0s 3ms/step - loss: 0.4078 - accuracy: 0.8182\n",
      "Epoch 32/100\n",
      "8/8 [==============================] - 0s 3ms/step - loss: 0.4058 - accuracy: 0.8182\n",
      "Epoch 33/100\n",
      "8/8 [==============================] - 0s 2ms/step - loss: 0.4041 - accuracy: 0.8182\n",
      "Epoch 34/100\n",
      "8/8 [==============================] - 0s 2ms/step - loss: 0.4023 - accuracy: 0.8223\n",
      "Epoch 35/100\n",
      "8/8 [==============================] - 0s 2ms/step - loss: 0.4007 - accuracy: 0.8223\n",
      "Epoch 36/100\n",
      "8/8 [==============================] - 0s 3ms/step - loss: 0.3992 - accuracy: 0.8223\n",
      "Epoch 37/100\n",
      "8/8 [==============================] - 0s 3ms/step - loss: 0.3978 - accuracy: 0.8223\n",
      "Epoch 38/100\n",
      "8/8 [==============================] - 0s 2ms/step - loss: 0.3966 - accuracy: 0.8223\n",
      "Epoch 39/100\n",
      "8/8 [==============================] - 0s 4ms/step - loss: 0.3950 - accuracy: 0.8264\n",
      "Epoch 40/100\n",
      "8/8 [==============================] - 0s 4ms/step - loss: 0.3939 - accuracy: 0.8264\n",
      "Epoch 41/100\n",
      "8/8 [==============================] - 0s 3ms/step - loss: 0.3927 - accuracy: 0.8264\n",
      "Epoch 42/100\n",
      "8/8 [==============================] - 0s 3ms/step - loss: 0.3917 - accuracy: 0.8306\n",
      "Epoch 43/100\n",
      "8/8 [==============================] - 0s 2ms/step - loss: 0.3906 - accuracy: 0.8306\n",
      "Epoch 44/100\n",
      "8/8 [==============================] - 0s 2ms/step - loss: 0.3898 - accuracy: 0.8264\n",
      "Epoch 45/100\n",
      "8/8 [==============================] - 0s 2ms/step - loss: 0.3889 - accuracy: 0.8306\n",
      "Epoch 46/100\n",
      "8/8 [==============================] - 0s 2ms/step - loss: 0.3880 - accuracy: 0.8306\n",
      "Epoch 47/100\n",
      "8/8 [==============================] - 0s 3ms/step - loss: 0.3873 - accuracy: 0.8264\n",
      "Epoch 48/100\n",
      "8/8 [==============================] - 0s 2ms/step - loss: 0.3864 - accuracy: 0.8264\n",
      "Epoch 49/100\n",
      "8/8 [==============================] - 0s 2ms/step - loss: 0.3856 - accuracy: 0.8264\n",
      "Epoch 50/100\n",
      "8/8 [==============================] - 0s 2ms/step - loss: 0.3848 - accuracy: 0.8264\n",
      "Epoch 51/100\n",
      "8/8 [==============================] - 0s 2ms/step - loss: 0.3842 - accuracy: 0.8264\n",
      "Epoch 52/100\n",
      "8/8 [==============================] - 0s 3ms/step - loss: 0.3835 - accuracy: 0.8264\n",
      "Epoch 53/100\n",
      "8/8 [==============================] - 0s 3ms/step - loss: 0.3827 - accuracy: 0.8264\n",
      "Epoch 54/100\n",
      "8/8 [==============================] - 0s 3ms/step - loss: 0.3821 - accuracy: 0.8306\n",
      "Epoch 55/100\n",
      "8/8 [==============================] - 0s 3ms/step - loss: 0.3814 - accuracy: 0.8306\n",
      "Epoch 56/100\n",
      "8/8 [==============================] - 0s 3ms/step - loss: 0.3809 - accuracy: 0.8347\n",
      "Epoch 57/100\n",
      "8/8 [==============================] - 0s 3ms/step - loss: 0.3805 - accuracy: 0.8347\n",
      "Epoch 58/100\n",
      "8/8 [==============================] - 0s 4ms/step - loss: 0.3798 - accuracy: 0.8347\n",
      "Epoch 59/100\n",
      "8/8 [==============================] - 0s 3ms/step - loss: 0.3793 - accuracy: 0.8347\n",
      "Epoch 60/100\n",
      "8/8 [==============================] - 0s 3ms/step - loss: 0.3787 - accuracy: 0.8347\n",
      "Epoch 61/100\n",
      "8/8 [==============================] - 0s 2ms/step - loss: 0.3784 - accuracy: 0.8347\n",
      "Epoch 62/100\n",
      "8/8 [==============================] - 0s 3ms/step - loss: 0.3780 - accuracy: 0.8347\n",
      "Epoch 63/100\n",
      "8/8 [==============================] - 0s 3ms/step - loss: 0.3776 - accuracy: 0.8347\n",
      "Epoch 64/100\n",
      "8/8 [==============================] - 0s 4ms/step - loss: 0.3770 - accuracy: 0.8347\n",
      "Epoch 65/100\n",
      "8/8 [==============================] - 0s 3ms/step - loss: 0.3768 - accuracy: 0.8347\n",
      "Epoch 66/100\n",
      "8/8 [==============================] - 0s 2ms/step - loss: 0.3764 - accuracy: 0.8347\n",
      "Epoch 67/100\n",
      "8/8 [==============================] - 0s 3ms/step - loss: 0.3760 - accuracy: 0.8347\n",
      "Epoch 68/100\n",
      "8/8 [==============================] - 0s 3ms/step - loss: 0.3757 - accuracy: 0.8347\n",
      "Epoch 69/100\n",
      "8/8 [==============================] - 0s 3ms/step - loss: 0.3754 - accuracy: 0.8347\n",
      "Epoch 70/100\n",
      "8/8 [==============================] - 0s 5ms/step - loss: 0.3749 - accuracy: 0.8347\n",
      "Epoch 71/100\n",
      "8/8 [==============================] - 0s 2ms/step - loss: 0.3747 - accuracy: 0.8347\n",
      "Epoch 72/100\n",
      "8/8 [==============================] - 0s 4ms/step - loss: 0.3744 - accuracy: 0.8347\n",
      "Epoch 73/100\n",
      "8/8 [==============================] - 0s 3ms/step - loss: 0.3739 - accuracy: 0.8347\n",
      "Epoch 74/100\n",
      "8/8 [==============================] - 0s 2ms/step - loss: 0.3738 - accuracy: 0.8347\n",
      "Epoch 75/100\n",
      "8/8 [==============================] - 0s 4ms/step - loss: 0.3735 - accuracy: 0.8347\n",
      "Epoch 76/100\n",
      "8/8 [==============================] - 0s 3ms/step - loss: 0.3733 - accuracy: 0.8306\n",
      "Epoch 77/100\n",
      "8/8 [==============================] - 0s 3ms/step - loss: 0.3729 - accuracy: 0.8306\n",
      "Epoch 78/100\n",
      "8/8 [==============================] - 0s 3ms/step - loss: 0.3726 - accuracy: 0.8306\n",
      "Epoch 79/100\n",
      "8/8 [==============================] - 0s 2ms/step - loss: 0.3724 - accuracy: 0.8306\n",
      "Epoch 80/100\n",
      "8/8 [==============================] - 0s 2ms/step - loss: 0.3722 - accuracy: 0.8347\n",
      "Epoch 81/100\n",
      "8/8 [==============================] - 0s 2ms/step - loss: 0.3722 - accuracy: 0.8306\n",
      "Epoch 82/100\n",
      "8/8 [==============================] - 0s 2ms/step - loss: 0.3719 - accuracy: 0.8306\n",
      "Epoch 83/100\n",
      "8/8 [==============================] - 0s 2ms/step - loss: 0.3717 - accuracy: 0.8347\n",
      "Epoch 84/100\n",
      "8/8 [==============================] - 0s 3ms/step - loss: 0.3715 - accuracy: 0.8347\n",
      "Epoch 85/100\n",
      "8/8 [==============================] - 0s 4ms/step - loss: 0.3713 - accuracy: 0.8347\n",
      "Epoch 86/100\n",
      "8/8 [==============================] - 0s 3ms/step - loss: 0.3710 - accuracy: 0.8347\n",
      "Epoch 87/100\n",
      "8/8 [==============================] - 0s 3ms/step - loss: 0.3709 - accuracy: 0.8347\n",
      "Epoch 88/100\n",
      "8/8 [==============================] - 0s 3ms/step - loss: 0.3706 - accuracy: 0.8347\n",
      "Epoch 89/100\n",
      "8/8 [==============================] - 0s 2ms/step - loss: 0.3705 - accuracy: 0.8347\n",
      "Epoch 90/100\n",
      "8/8 [==============================] - 0s 3ms/step - loss: 0.3702 - accuracy: 0.8347\n",
      "Epoch 91/100\n",
      "8/8 [==============================] - 0s 4ms/step - loss: 0.3702 - accuracy: 0.8347\n",
      "Epoch 92/100\n",
      "8/8 [==============================] - 0s 2ms/step - loss: 0.3700 - accuracy: 0.8347\n",
      "Epoch 93/100\n",
      "8/8 [==============================] - 0s 3ms/step - loss: 0.3698 - accuracy: 0.8347\n",
      "Epoch 94/100\n",
      "8/8 [==============================] - 0s 3ms/step - loss: 0.3697 - accuracy: 0.8347\n",
      "Epoch 95/100\n",
      "8/8 [==============================] - 0s 2ms/step - loss: 0.3696 - accuracy: 0.8347\n",
      "Epoch 96/100\n",
      "8/8 [==============================] - 0s 2ms/step - loss: 0.3694 - accuracy: 0.8347\n",
      "Epoch 97/100\n",
      "8/8 [==============================] - 0s 2ms/step - loss: 0.3692 - accuracy: 0.8347\n",
      "Epoch 98/100\n",
      "8/8 [==============================] - 0s 2ms/step - loss: 0.3692 - accuracy: 0.8347\n",
      "Epoch 99/100\n",
      "8/8 [==============================] - 0s 2ms/step - loss: 0.3690 - accuracy: 0.8347\n",
      "Epoch 100/100\n",
      "8/8 [==============================] - 0s 3ms/step - loss: 0.3689 - accuracy: 0.8347\n"
     ]
    }
   ],
   "source": [
    "from keras.models import Sequential\n",
    "from keras.layers import Dense, Activation\n",
    "from sklearn.preprocessing import StandardScaler\n",
    "from keras.callbacks import History\n",
    "\n",
    "scaler = StandardScaler()\n",
    "features = indicators\n",
    "x_train = scaler.fit_transform(x_train[features].values)\n",
    "y_train = pd.get_dummies(y_train).values\n",
    "\n",
    "model = Sequential()\n",
    "\n",
    "model.add(Dense(2))\n",
    "model.add(Activation(\"softmax\"))\n",
    "model.compile(loss='categorical_crossentropy', optimizer='sgd', metrics=['accuracy'])\n",
    "history = model.fit(x_train, y_train, epochs=100)"
   ],
   "metadata": {
    "collapsed": false,
    "pycharm": {
     "name": "#%%\n"
    }
   }
  },
  {
   "cell_type": "code",
   "execution_count": 54,
   "outputs": [
    {
     "name": "stdout",
     "output_type": "stream",
     "text": [
      "2/2 [==============================] - 0s 4ms/step\n",
      "Model Accuracy: 0.8688524590163934\n"
     ]
    }
   ],
   "source": [
    "x_test = scaler.fit_transform(x_test[features].values)\n",
    "pred_x = model.predict(x_test)\n",
    "y_val_pred = np.argmax(pred_x, axis=1)\n",
    "print(\"Model Accuracy:\", metrics.accuracy_score(y_test, y_val_pred))"
   ],
   "metadata": {
    "collapsed": false,
    "pycharm": {
     "name": "#%%\n"
    }
   }
  },
  {
   "cell_type": "code",
   "execution_count": 55,
   "outputs": [
    {
     "name": "stdout",
     "output_type": "stream",
     "text": [
      "Model: \"sequential_1\"\n",
      "_________________________________________________________________\n",
      " Layer (type)                Output Shape              Param #   \n",
      "=================================================================\n",
      " dense_1 (Dense)             (None, 2)                 22        \n",
      "                                                                 \n",
      " activation_1 (Activation)   (None, 2)                 0         \n",
      "                                                                 \n",
      "=================================================================\n",
      "Total params: 22\n",
      "Trainable params: 22\n",
      "Non-trainable params: 0\n",
      "_________________________________________________________________\n"
     ]
    }
   ],
   "source": [
    "model.summary()"
   ],
   "metadata": {
    "collapsed": false,
    "pycharm": {
     "name": "#%%\n"
    }
   }
  },
  {
   "cell_type": "code",
   "execution_count": 56,
   "outputs": [
    {
     "data": {
      "text/plain": "<Figure size 576x360 with 1 Axes>",
      "image/png": "[encoded data removed]"
     },
     "metadata": {
      "needs_background": "light"
     },
     "output_type": "display_data"
    }
   ],
   "source": [
    "import pandas as pd\n",
    "\n",
    "pd.DataFrame(history.history).plot(figsize=(8, 5))\n",
    "plt.grid(True)\n",
    "plt.gca().set_ylim(0, 1)\n",
    "plt.show()"
   ],
   "metadata": {
    "collapsed": false,
    "pycharm": {
     "name": "#%%\n"
    }
   }
  },
  {
   "cell_type": "code",
   "execution_count": 57,
   "outputs": [
    {
     "name": "stdout",
     "output_type": "stream",
     "text": [
      "Epoch 1/100\n",
      "8/8 [==============================] - 1s 4ms/step - loss: 0.5741 - accuracy: 0.6983\n",
      "Epoch 2/100\n",
      "8/8 [==============================] - 0s 5ms/step - loss: 0.4491 - accuracy: 0.7893\n",
      "Epoch 3/100\n",
      "8/8 [==============================] - 0s 4ms/step - loss: 0.4133 - accuracy: 0.8099\n",
      "Epoch 4/100\n",
      "8/8 [==============================] - 0s 3ms/step - loss: 0.3961 - accuracy: 0.8140\n",
      "Epoch 5/100\n",
      "8/8 [==============================] - 0s 4ms/step - loss: 0.3865 - accuracy: 0.8306\n",
      "Epoch 6/100\n",
      "8/8 [==============================] - 0s 4ms/step - loss: 0.3817 - accuracy: 0.8306\n",
      "Epoch 7/100\n",
      "8/8 [==============================] - 0s 4ms/step - loss: 0.3765 - accuracy: 0.8306\n",
      "Epoch 8/100\n",
      "8/8 [==============================] - 0s 4ms/step - loss: 0.3758 - accuracy: 0.8306\n",
      "Epoch 9/100\n",
      "8/8 [==============================] - 0s 3ms/step - loss: 0.3737 - accuracy: 0.8388\n",
      "Epoch 10/100\n",
      "8/8 [==============================] - 0s 3ms/step - loss: 0.3710 - accuracy: 0.8347\n",
      "Epoch 11/100\n",
      "8/8 [==============================] - 0s 5ms/step - loss: 0.3720 - accuracy: 0.8306\n",
      "Epoch 12/100\n",
      "8/8 [==============================] - 0s 3ms/step - loss: 0.3677 - accuracy: 0.8430\n",
      "Epoch 13/100\n",
      "8/8 [==============================] - 0s 3ms/step - loss: 0.3694 - accuracy: 0.8223\n",
      "Epoch 14/100\n",
      "8/8 [==============================] - 0s 3ms/step - loss: 0.3699 - accuracy: 0.8347\n",
      "Epoch 15/100\n",
      "8/8 [==============================] - 0s 4ms/step - loss: 0.3700 - accuracy: 0.8388\n",
      "Epoch 16/100\n",
      "8/8 [==============================] - 0s 4ms/step - loss: 0.3701 - accuracy: 0.8223\n",
      "Epoch 17/100\n",
      "8/8 [==============================] - 0s 4ms/step - loss: 0.3700 - accuracy: 0.8264\n",
      "Epoch 18/100\n",
      "8/8 [==============================] - 0s 3ms/step - loss: 0.3692 - accuracy: 0.8306\n",
      "Epoch 19/100\n",
      "8/8 [==============================] - 0s 4ms/step - loss: 0.3702 - accuracy: 0.8264\n",
      "Epoch 20/100\n",
      "8/8 [==============================] - 0s 4ms/step - loss: 0.3684 - accuracy: 0.8306\n",
      "Epoch 21/100\n",
      "8/8 [==============================] - 0s 2ms/step - loss: 0.3697 - accuracy: 0.8306\n",
      "Epoch 22/100\n",
      "8/8 [==============================] - 0s 2ms/step - loss: 0.3697 - accuracy: 0.8223\n",
      "Epoch 23/100\n",
      "8/8 [==============================] - 0s 3ms/step - loss: 0.3689 - accuracy: 0.8140\n",
      "Epoch 24/100\n",
      "8/8 [==============================] - 0s 4ms/step - loss: 0.3692 - accuracy: 0.8182\n",
      "Epoch 25/100\n",
      "8/8 [==============================] - 0s 3ms/step - loss: 0.3709 - accuracy: 0.8182\n",
      "Epoch 26/100\n",
      "8/8 [==============================] - 0s 3ms/step - loss: 0.3704 - accuracy: 0.8140\n",
      "Epoch 27/100\n",
      "8/8 [==============================] - 0s 6ms/step - loss: 0.3695 - accuracy: 0.8264\n",
      "Epoch 28/100\n",
      "8/8 [==============================] - 0s 3ms/step - loss: 0.3684 - accuracy: 0.8347\n",
      "Epoch 29/100\n",
      "8/8 [==============================] - 0s 2ms/step - loss: 0.3709 - accuracy: 0.8306\n",
      "Epoch 30/100\n",
      "8/8 [==============================] - 0s 3ms/step - loss: 0.3694 - accuracy: 0.8306\n",
      "Epoch 31/100\n",
      "8/8 [==============================] - 0s 5ms/step - loss: 0.3682 - accuracy: 0.8306\n",
      "Epoch 32/100\n",
      "8/8 [==============================] - 0s 3ms/step - loss: 0.3690 - accuracy: 0.8347\n",
      "Epoch 33/100\n",
      "8/8 [==============================] - 0s 4ms/step - loss: 0.3698 - accuracy: 0.8264\n",
      "Epoch 34/100\n",
      "8/8 [==============================] - 0s 3ms/step - loss: 0.3689 - accuracy: 0.8223\n",
      "Epoch 35/100\n",
      "8/8 [==============================] - 0s 3ms/step - loss: 0.3694 - accuracy: 0.8306\n",
      "Epoch 36/100\n",
      "8/8 [==============================] - 0s 5ms/step - loss: 0.3701 - accuracy: 0.8306\n",
      "Epoch 37/100\n",
      "8/8 [==============================] - 0s 3ms/step - loss: 0.3683 - accuracy: 0.8264\n",
      "Epoch 38/100\n",
      "8/8 [==============================] - 0s 2ms/step - loss: 0.3695 - accuracy: 0.8223\n",
      "Epoch 39/100\n",
      "8/8 [==============================] - 0s 3ms/step - loss: 0.3696 - accuracy: 0.8264\n",
      "Epoch 40/100\n",
      "8/8 [==============================] - 0s 2ms/step - loss: 0.3695 - accuracy: 0.8182\n",
      "Epoch 41/100\n",
      "8/8 [==============================] - 0s 4ms/step - loss: 0.3695 - accuracy: 0.8182\n",
      "Epoch 42/100\n",
      "8/8 [==============================] - 0s 2ms/step - loss: 0.3671 - accuracy: 0.8264\n",
      "Epoch 43/100\n",
      "8/8 [==============================] - 0s 4ms/step - loss: 0.3682 - accuracy: 0.8140\n",
      "Epoch 44/100\n",
      "8/8 [==============================] - 0s 4ms/step - loss: 0.3677 - accuracy: 0.8140\n",
      "Epoch 45/100\n",
      "8/8 [==============================] - 0s 2ms/step - loss: 0.3691 - accuracy: 0.8223\n",
      "Epoch 46/100\n",
      "8/8 [==============================] - 0s 3ms/step - loss: 0.3713 - accuracy: 0.8306\n",
      "Epoch 47/100\n",
      "8/8 [==============================] - 0s 2ms/step - loss: 0.3680 - accuracy: 0.8264\n",
      "Epoch 48/100\n",
      "8/8 [==============================] - 0s 3ms/step - loss: 0.3682 - accuracy: 0.8223\n",
      "Epoch 49/100\n",
      "8/8 [==============================] - 0s 3ms/step - loss: 0.3690 - accuracy: 0.8223\n",
      "Epoch 50/100\n",
      "8/8 [==============================] - 0s 4ms/step - loss: 0.3689 - accuracy: 0.8182\n",
      "Epoch 51/100\n",
      "8/8 [==============================] - 0s 3ms/step - loss: 0.3672 - accuracy: 0.8182\n",
      "Epoch 52/100\n",
      "8/8 [==============================] - 0s 3ms/step - loss: 0.3690 - accuracy: 0.8140\n",
      "Epoch 53/100\n",
      "8/8 [==============================] - 0s 4ms/step - loss: 0.3673 - accuracy: 0.8264\n",
      "Epoch 54/100\n",
      "8/8 [==============================] - 0s 3ms/step - loss: 0.3685 - accuracy: 0.8306\n",
      "Epoch 55/100\n",
      "8/8 [==============================] - 0s 3ms/step - loss: 0.3690 - accuracy: 0.8223\n",
      "Epoch 56/100\n",
      "8/8 [==============================] - 0s 3ms/step - loss: 0.3676 - accuracy: 0.8223\n",
      "Epoch 57/100\n",
      "8/8 [==============================] - 0s 3ms/step - loss: 0.3681 - accuracy: 0.8264\n",
      "Epoch 58/100\n",
      "8/8 [==============================] - 0s 2ms/step - loss: 0.3685 - accuracy: 0.8223\n",
      "Epoch 59/100\n",
      "8/8 [==============================] - 0s 2ms/step - loss: 0.3697 - accuracy: 0.8223\n",
      "Epoch 60/100\n",
      "8/8 [==============================] - 0s 2ms/step - loss: 0.3677 - accuracy: 0.8347\n",
      "Epoch 61/100\n",
      "8/8 [==============================] - 0s 4ms/step - loss: 0.3683 - accuracy: 0.8223\n",
      "Epoch 62/100\n",
      "8/8 [==============================] - 0s 3ms/step - loss: 0.3691 - accuracy: 0.8182\n",
      "Epoch 63/100\n",
      "8/8 [==============================] - 0s 4ms/step - loss: 0.3689 - accuracy: 0.8264\n",
      "Epoch 64/100\n",
      "8/8 [==============================] - 0s 4ms/step - loss: 0.3679 - accuracy: 0.8306\n",
      "Epoch 65/100\n",
      "8/8 [==============================] - 0s 3ms/step - loss: 0.3681 - accuracy: 0.8264\n",
      "Epoch 66/100\n",
      "8/8 [==============================] - 0s 3ms/step - loss: 0.3692 - accuracy: 0.8140\n",
      "Epoch 67/100\n",
      "8/8 [==============================] - 0s 3ms/step - loss: 0.3691 - accuracy: 0.8264\n",
      "Epoch 68/100\n",
      "8/8 [==============================] - 0s 2ms/step - loss: 0.3690 - accuracy: 0.8306\n",
      "Epoch 69/100\n",
      "8/8 [==============================] - 0s 4ms/step - loss: 0.3689 - accuracy: 0.8264\n",
      "Epoch 70/100\n",
      "8/8 [==============================] - 0s 2ms/step - loss: 0.3678 - accuracy: 0.8182\n",
      "Epoch 71/100\n",
      "8/8 [==============================] - 0s 4ms/step - loss: 0.3685 - accuracy: 0.8306\n",
      "Epoch 72/100\n",
      "8/8 [==============================] - 0s 3ms/step - loss: 0.3681 - accuracy: 0.8182\n",
      "Epoch 73/100\n",
      "8/8 [==============================] - 0s 2ms/step - loss: 0.3675 - accuracy: 0.8264\n",
      "Epoch 74/100\n",
      "8/8 [==============================] - 0s 3ms/step - loss: 0.3679 - accuracy: 0.8223\n",
      "Epoch 75/100\n",
      "8/8 [==============================] - 0s 2ms/step - loss: 0.3682 - accuracy: 0.8264\n",
      "Epoch 76/100\n",
      "8/8 [==============================] - 0s 3ms/step - loss: 0.3686 - accuracy: 0.8182\n",
      "Epoch 77/100\n",
      "8/8 [==============================] - 0s 3ms/step - loss: 0.3697 - accuracy: 0.8306\n",
      "Epoch 78/100\n",
      "8/8 [==============================] - 0s 3ms/step - loss: 0.3691 - accuracy: 0.8264\n",
      "Epoch 79/100\n",
      "8/8 [==============================] - 0s 3ms/step - loss: 0.3670 - accuracy: 0.8182\n",
      "Epoch 80/100\n",
      "8/8 [==============================] - 0s 2ms/step - loss: 0.3673 - accuracy: 0.8223\n",
      "Epoch 81/100\n",
      "8/8 [==============================] - 0s 3ms/step - loss: 0.3682 - accuracy: 0.8223\n",
      "Epoch 82/100\n",
      "8/8 [==============================] - 0s 2ms/step - loss: 0.3680 - accuracy: 0.8264\n",
      "Epoch 83/100\n",
      "8/8 [==============================] - 0s 3ms/step - loss: 0.3676 - accuracy: 0.8306\n",
      "Epoch 84/100\n",
      "8/8 [==============================] - 0s 3ms/step - loss: 0.3698 - accuracy: 0.8182\n",
      "Epoch 85/100\n",
      "8/8 [==============================] - 0s 4ms/step - loss: 0.3691 - accuracy: 0.8223\n",
      "Epoch 86/100\n",
      "8/8 [==============================] - 0s 3ms/step - loss: 0.3676 - accuracy: 0.8264\n",
      "Epoch 87/100\n",
      "8/8 [==============================] - 0s 3ms/step - loss: 0.3687 - accuracy: 0.8182\n",
      "Epoch 88/100\n",
      "8/8 [==============================] - 0s 3ms/step - loss: 0.3673 - accuracy: 0.8306\n",
      "Epoch 89/100\n",
      "8/8 [==============================] - 0s 3ms/step - loss: 0.3703 - accuracy: 0.8223\n",
      "Epoch 90/100\n",
      "8/8 [==============================] - 0s 3ms/step - loss: 0.3685 - accuracy: 0.8223\n",
      "Epoch 91/100\n",
      "8/8 [==============================] - 0s 2ms/step - loss: 0.3680 - accuracy: 0.8140\n",
      "Epoch 92/100\n",
      "8/8 [==============================] - 0s 2ms/step - loss: 0.3693 - accuracy: 0.8182\n",
      "Epoch 93/100\n",
      "8/8 [==============================] - 0s 3ms/step - loss: 0.3684 - accuracy: 0.8223\n",
      "Epoch 94/100\n",
      "8/8 [==============================] - 0s 4ms/step - loss: 0.3704 - accuracy: 0.8264\n",
      "Epoch 95/100\n",
      "8/8 [==============================] - 0s 4ms/step - loss: 0.3682 - accuracy: 0.8140\n",
      "Epoch 96/100\n",
      "8/8 [==============================] - 0s 4ms/step - loss: 0.3687 - accuracy: 0.8140\n",
      "Epoch 97/100\n",
      "8/8 [==============================] - 0s 4ms/step - loss: 0.3679 - accuracy: 0.8223\n",
      "Epoch 98/100\n",
      "8/8 [==============================] - 0s 3ms/step - loss: 0.3681 - accuracy: 0.8223\n",
      "Epoch 99/100\n",
      "8/8 [==============================] - 0s 3ms/step - loss: 0.3693 - accuracy: 0.8182\n",
      "Epoch 100/100\n",
      "8/8 [==============================] - 0s 3ms/step - loss: 0.3674 - accuracy: 0.8306\n"
     ]
    }
   ],
   "source": [
    "history2 = History()\n",
    "model2 = Sequential()\n",
    "\n",
    "model2.add(Dense(100))\n",
    "model2.add(Dense(100))\n",
    "model2.add(Dense(100))\n",
    "model2.add(Dense(100))\n",
    "model2.add(Dense(2))\n",
    "model2.add(Activation(\"softmax\"))\n",
    "model2.compile(loss='categorical_crossentropy', optimizer='sgd', metrics=['accuracy'])\n",
    "history2 = model2.fit(x_train, y_train, epochs=100)"
   ],
   "metadata": {
    "collapsed": false,
    "pycharm": {
     "name": "#%%\n"
    }
   }
  },
  {
   "cell_type": "code",
   "execution_count": 58,
   "outputs": [
    {
     "name": "stdout",
     "output_type": "stream",
     "text": [
      "2/2 [==============================] - 0s 6ms/step\n",
      "Model Accuracy: 0.8688524590163934\n"
     ]
    }
   ],
   "source": [
    "pred_x = model2.predict(x_test)\n",
    "y_val_pred = np.argmax(pred_x, axis=1)\n",
    "print(\"Model Accuracy:\", metrics.accuracy_score(y_test, y_val_pred))"
   ],
   "metadata": {
    "collapsed": false,
    "pycharm": {
     "name": "#%%\n"
    }
   }
  },
  {
   "cell_type": "code",
   "execution_count": 59,
   "outputs": [
    {
     "name": "stdout",
     "output_type": "stream",
     "text": [
      "Model: \"sequential_2\"\n",
      "_________________________________________________________________\n",
      " Layer (type)                Output Shape              Param #   \n",
      "=================================================================\n",
      " dense_2 (Dense)             (None, 100)               1100      \n",
      "                                                                 \n",
      " dense_3 (Dense)             (None, 100)               10100     \n",
      "                                                                 \n",
      " dense_4 (Dense)             (None, 100)               10100     \n",
      "                                                                 \n",
      " dense_5 (Dense)             (None, 100)               10100     \n",
      "                                                                 \n",
      " dense_6 (Dense)             (None, 2)                 202       \n",
      "                                                                 \n",
      " activation_2 (Activation)   (None, 2)                 0         \n",
      "                                                                 \n",
      "=================================================================\n",
      "Total params: 31,602\n",
      "Trainable params: 31,602\n",
      "Non-trainable params: 0\n",
      "_________________________________________________________________\n"
     ]
    }
   ],
   "source": [
    "model2.summary()"
   ],
   "metadata": {
    "collapsed": false,
    "pycharm": {
     "name": "#%%\n"
    }
   }
  },
  {
   "cell_type": "code",
   "execution_count": 60,
   "outputs": [
    {
     "data": {
      "text/plain": "<Figure size 576x360 with 1 Axes>",
      "image/png": "[encoded data removed]"
     },
     "metadata": {
      "needs_background": "light"
     },
     "output_type": "display_data"
    }
   ],
   "source": [
    "import pandas as pd\n",
    "\n",
    "pd.DataFrame(history2.history).plot(figsize=(8, 5))\n",
    "plt.grid(True)\n",
    "plt.gca().set_ylim(0, 1)\n",
    "plt.show()"
   ],
   "metadata": {
    "collapsed": false,
    "pycharm": {
     "name": "#%%\n"
    }
   }
  },
  {
   "cell_type": "code",
   "execution_count": 61,
   "outputs": [
    {
     "name": "stdout",
     "output_type": "stream",
     "text": [
      "Epoch 1/200\n",
      "25/25 [==============================] - 1s 3ms/step - loss: 0.5099 - accuracy: 0.7645\n",
      "Epoch 2/200\n",
      "25/25 [==============================] - 0s 4ms/step - loss: 0.3717 - accuracy: 0.8264\n",
      "Epoch 3/200\n",
      "25/25 [==============================] - 0s 4ms/step - loss: 0.3420 - accuracy: 0.8471\n",
      "Epoch 4/200\n",
      "25/25 [==============================] - 0s 5ms/step - loss: 0.3237 - accuracy: 0.8678\n",
      "Epoch 5/200\n",
      "25/25 [==============================] - 0s 4ms/step - loss: 0.2880 - accuracy: 0.8884\n",
      "Epoch 6/200\n",
      "25/25 [==============================] - 0s 4ms/step - loss: 0.2667 - accuracy: 0.8926\n",
      "Epoch 7/200\n",
      "25/25 [==============================] - 0s 4ms/step - loss: 0.2546 - accuracy: 0.8926\n",
      "Epoch 8/200\n",
      "25/25 [==============================] - 0s 5ms/step - loss: 0.2299 - accuracy: 0.9132\n",
      "Epoch 9/200\n",
      "25/25 [==============================] - 0s 3ms/step - loss: 0.2075 - accuracy: 0.9091\n",
      "Epoch 10/200\n",
      "25/25 [==============================] - 0s 4ms/step - loss: 0.1985 - accuracy: 0.9298\n",
      "Epoch 11/200\n",
      "25/25 [==============================] - 0s 4ms/step - loss: 0.1866 - accuracy: 0.9339\n",
      "Epoch 12/200\n",
      "25/25 [==============================] - 0s 3ms/step - loss: 0.1678 - accuracy: 0.9339\n",
      "Epoch 13/200\n",
      "25/25 [==============================] - 0s 3ms/step - loss: 0.1452 - accuracy: 0.9587\n",
      "Epoch 14/200\n",
      "25/25 [==============================] - 0s 3ms/step - loss: 0.1464 - accuracy: 0.9587\n",
      "Epoch 15/200\n",
      "25/25 [==============================] - 0s 4ms/step - loss: 0.1292 - accuracy: 0.9669\n",
      "Epoch 16/200\n",
      "25/25 [==============================] - 0s 3ms/step - loss: 0.1187 - accuracy: 0.9628\n",
      "Epoch 17/200\n",
      "25/25 [==============================] - 0s 3ms/step - loss: 0.1146 - accuracy: 0.9545\n",
      "Epoch 18/200\n",
      "25/25 [==============================] - 0s 3ms/step - loss: 0.1030 - accuracy: 0.9711\n",
      "Epoch 19/200\n",
      "25/25 [==============================] - 0s 2ms/step - loss: 0.0883 - accuracy: 0.9793\n",
      "Epoch 20/200\n",
      "25/25 [==============================] - 0s 4ms/step - loss: 0.0825 - accuracy: 0.9793\n",
      "Epoch 21/200\n",
      "25/25 [==============================] - 0s 4ms/step - loss: 0.0889 - accuracy: 0.9752\n",
      "Epoch 22/200\n",
      "25/25 [==============================] - 0s 3ms/step - loss: 0.0628 - accuracy: 0.9917\n",
      "Epoch 23/200\n",
      "25/25 [==============================] - 0s 3ms/step - loss: 0.0580 - accuracy: 0.9876\n",
      "Epoch 24/200\n",
      "25/25 [==============================] - 0s 4ms/step - loss: 0.0693 - accuracy: 0.9835\n",
      "Epoch 25/200\n",
      "25/25 [==============================] - 0s 3ms/step - loss: 0.0495 - accuracy: 0.9959\n",
      "Epoch 26/200\n",
      "25/25 [==============================] - 0s 4ms/step - loss: 0.0433 - accuracy: 0.9917\n",
      "Epoch 27/200\n",
      "25/25 [==============================] - 0s 3ms/step - loss: 0.0380 - accuracy: 1.0000\n",
      "Epoch 28/200\n",
      "25/25 [==============================] - 0s 3ms/step - loss: 0.0348 - accuracy: 0.9959\n",
      "Epoch 29/200\n",
      "25/25 [==============================] - 0s 3ms/step - loss: 0.0340 - accuracy: 0.9917\n",
      "Epoch 30/200\n",
      "25/25 [==============================] - 0s 3ms/step - loss: 0.0267 - accuracy: 0.9959\n",
      "Epoch 31/200\n",
      "25/25 [==============================] - 0s 3ms/step - loss: 0.0230 - accuracy: 0.9959\n",
      "Epoch 32/200\n",
      "25/25 [==============================] - 0s 3ms/step - loss: 0.0236 - accuracy: 1.0000\n",
      "Epoch 33/200\n",
      "25/25 [==============================] - 0s 3ms/step - loss: 0.0240 - accuracy: 0.9959\n",
      "Epoch 34/200\n",
      "25/25 [==============================] - 0s 3ms/step - loss: 0.0209 - accuracy: 0.9959\n",
      "Epoch 35/200\n",
      "25/25 [==============================] - 0s 3ms/step - loss: 0.0181 - accuracy: 1.0000\n",
      "Epoch 36/200\n",
      "25/25 [==============================] - 0s 2ms/step - loss: 0.0161 - accuracy: 1.0000\n",
      "Epoch 37/200\n",
      "25/25 [==============================] - 0s 4ms/step - loss: 0.0164 - accuracy: 0.9959\n",
      "Epoch 38/200\n",
      "25/25 [==============================] - 0s 4ms/step - loss: 0.0172 - accuracy: 0.9959\n",
      "Epoch 39/200\n",
      "25/25 [==============================] - 0s 3ms/step - loss: 0.0138 - accuracy: 0.9959\n",
      "Epoch 40/200\n",
      "25/25 [==============================] - 0s 2ms/step - loss: 0.0117 - accuracy: 1.0000\n",
      "Epoch 41/200\n",
      "25/25 [==============================] - 0s 3ms/step - loss: 0.0278 - accuracy: 0.9917\n",
      "Epoch 42/200\n",
      "25/25 [==============================] - 0s 3ms/step - loss: 0.0142 - accuracy: 1.0000\n",
      "Epoch 43/200\n",
      "25/25 [==============================] - 0s 3ms/step - loss: 0.0116 - accuracy: 1.0000\n",
      "Epoch 44/200\n",
      "25/25 [==============================] - 0s 3ms/step - loss: 0.0113 - accuracy: 0.9959\n",
      "Epoch 45/200\n",
      "25/25 [==============================] - 0s 4ms/step - loss: 0.0092 - accuracy: 1.0000\n",
      "Epoch 46/200\n",
      "25/25 [==============================] - 0s 3ms/step - loss: 0.0083 - accuracy: 1.0000\n",
      "Epoch 47/200\n",
      "25/25 [==============================] - 0s 3ms/step - loss: 0.0067 - accuracy: 1.0000\n",
      "Epoch 48/200\n",
      "25/25 [==============================] - 0s 3ms/step - loss: 0.0092 - accuracy: 0.9959\n",
      "Epoch 49/200\n",
      "25/25 [==============================] - 0s 3ms/step - loss: 0.0086 - accuracy: 1.0000\n",
      "Epoch 50/200\n",
      "25/25 [==============================] - 0s 3ms/step - loss: 0.0073 - accuracy: 1.0000\n",
      "Epoch 51/200\n",
      "25/25 [==============================] - 0s 3ms/step - loss: 0.0055 - accuracy: 1.0000\n",
      "Epoch 52/200\n",
      "25/25 [==============================] - 0s 3ms/step - loss: 0.0050 - accuracy: 1.0000\n",
      "Epoch 53/200\n",
      "25/25 [==============================] - 0s 4ms/step - loss: 0.0050 - accuracy: 1.0000\n",
      "Epoch 54/200\n",
      "25/25 [==============================] - 0s 3ms/step - loss: 0.0040 - accuracy: 1.0000\n",
      "Epoch 55/200\n",
      "25/25 [==============================] - 0s 3ms/step - loss: 0.0041 - accuracy: 1.0000\n",
      "Epoch 56/200\n",
      "25/25 [==============================] - 0s 3ms/step - loss: 0.0040 - accuracy: 1.0000\n",
      "Epoch 57/200\n",
      "25/25 [==============================] - 0s 4ms/step - loss: 0.0038 - accuracy: 1.0000\n",
      "Epoch 58/200\n",
      "25/25 [==============================] - 0s 3ms/step - loss: 0.0036 - accuracy: 1.0000\n",
      "Epoch 59/200\n",
      "25/25 [==============================] - 0s 4ms/step - loss: 0.0032 - accuracy: 1.0000\n",
      "Epoch 60/200\n",
      "25/25 [==============================] - 0s 4ms/step - loss: 0.0030 - accuracy: 1.0000\n",
      "Epoch 61/200\n",
      "25/25 [==============================] - 0s 4ms/step - loss: 0.0028 - accuracy: 1.0000\n",
      "Epoch 62/200\n",
      "25/25 [==============================] - 0s 3ms/step - loss: 0.0027 - accuracy: 1.0000\n",
      "Epoch 63/200\n",
      "25/25 [==============================] - 0s 4ms/step - loss: 0.0027 - accuracy: 1.0000\n",
      "Epoch 64/200\n",
      "25/25 [==============================] - 0s 3ms/step - loss: 0.0025 - accuracy: 1.0000\n",
      "Epoch 65/200\n",
      "25/25 [==============================] - 0s 3ms/step - loss: 0.0024 - accuracy: 1.0000\n",
      "Epoch 66/200\n",
      "25/25 [==============================] - 0s 3ms/step - loss: 0.0023 - accuracy: 1.0000\n",
      "Epoch 67/200\n",
      "25/25 [==============================] - 0s 3ms/step - loss: 0.0022 - accuracy: 1.0000\n",
      "Epoch 68/200\n",
      "25/25 [==============================] - 0s 4ms/step - loss: 0.0021 - accuracy: 1.0000\n",
      "Epoch 69/200\n",
      "25/25 [==============================] - 0s 3ms/step - loss: 0.0020 - accuracy: 1.0000\n",
      "Epoch 70/200\n",
      "25/25 [==============================] - 0s 4ms/step - loss: 0.0019 - accuracy: 1.0000\n",
      "Epoch 71/200\n",
      "25/25 [==============================] - 0s 3ms/step - loss: 0.0018 - accuracy: 1.0000\n",
      "Epoch 72/200\n",
      "25/25 [==============================] - 0s 3ms/step - loss: 0.0017 - accuracy: 1.0000\n",
      "Epoch 73/200\n",
      "25/25 [==============================] - 0s 3ms/step - loss: 0.0017 - accuracy: 1.0000\n",
      "Epoch 74/200\n",
      "25/25 [==============================] - 0s 4ms/step - loss: 0.0017 - accuracy: 1.0000\n",
      "Epoch 75/200\n",
      "25/25 [==============================] - 0s 4ms/step - loss: 0.0016 - accuracy: 1.0000\n",
      "Epoch 76/200\n",
      "25/25 [==============================] - 0s 3ms/step - loss: 0.0016 - accuracy: 1.0000\n",
      "Epoch 77/200\n",
      "25/25 [==============================] - 0s 3ms/step - loss: 0.0015 - accuracy: 1.0000\n",
      "Epoch 78/200\n",
      "25/25 [==============================] - 0s 3ms/step - loss: 0.0014 - accuracy: 1.0000\n",
      "Epoch 79/200\n",
      "25/25 [==============================] - 0s 3ms/step - loss: 0.0014 - accuracy: 1.0000\n",
      "Epoch 80/200\n",
      "25/25 [==============================] - 0s 3ms/step - loss: 0.0013 - accuracy: 1.0000\n",
      "Epoch 81/200\n",
      "25/25 [==============================] - 0s 3ms/step - loss: 0.0012 - accuracy: 1.0000\n",
      "Epoch 82/200\n",
      "25/25 [==============================] - 0s 3ms/step - loss: 0.0012 - accuracy: 1.0000\n",
      "Epoch 83/200\n",
      "25/25 [==============================] - 0s 3ms/step - loss: 0.0012 - accuracy: 1.0000\n",
      "Epoch 84/200\n",
      "25/25 [==============================] - 0s 3ms/step - loss: 0.0012 - accuracy: 1.0000\n",
      "Epoch 85/200\n",
      "25/25 [==============================] - 0s 3ms/step - loss: 0.0012 - accuracy: 1.0000\n",
      "Epoch 86/200\n",
      "25/25 [==============================] - 0s 3ms/step - loss: 0.0011 - accuracy: 1.0000\n",
      "Epoch 87/200\n",
      "25/25 [==============================] - 0s 3ms/step - loss: 0.0010 - accuracy: 1.0000\n",
      "Epoch 88/200\n",
      "25/25 [==============================] - 0s 2ms/step - loss: 0.0010 - accuracy: 1.0000\n",
      "Epoch 89/200\n",
      "25/25 [==============================] - 0s 2ms/step - loss: 9.7910e-04 - accuracy: 1.0000\n",
      "Epoch 90/200\n",
      "25/25 [==============================] - 0s 4ms/step - loss: 9.2000e-04 - accuracy: 1.0000\n",
      "Epoch 91/200\n",
      "25/25 [==============================] - 0s 3ms/step - loss: 9.3243e-04 - accuracy: 1.0000\n",
      "Epoch 92/200\n",
      "25/25 [==============================] - 0s 3ms/step - loss: 8.9023e-04 - accuracy: 1.0000\n",
      "Epoch 93/200\n",
      "25/25 [==============================] - 0s 3ms/step - loss: 8.3133e-04 - accuracy: 1.0000\n",
      "Epoch 94/200\n",
      "25/25 [==============================] - 0s 3ms/step - loss: 8.3279e-04 - accuracy: 1.0000\n",
      "Epoch 95/200\n",
      "25/25 [==============================] - 0s 4ms/step - loss: 8.0522e-04 - accuracy: 1.0000\n",
      "Epoch 96/200\n",
      "25/25 [==============================] - 0s 4ms/step - loss: 7.8759e-04 - accuracy: 1.0000\n",
      "Epoch 97/200\n",
      "25/25 [==============================] - 0s 3ms/step - loss: 7.5062e-04 - accuracy: 1.0000\n",
      "Epoch 98/200\n",
      "25/25 [==============================] - 0s 2ms/step - loss: 7.6845e-04 - accuracy: 1.0000\n",
      "Epoch 99/200\n",
      "25/25 [==============================] - 0s 2ms/step - loss: 7.6090e-04 - accuracy: 1.0000\n",
      "Epoch 100/200\n",
      "25/25 [==============================] - 0s 3ms/step - loss: 6.9056e-04 - accuracy: 1.0000\n",
      "Epoch 101/200\n",
      "25/25 [==============================] - 0s 2ms/step - loss: 6.8203e-04 - accuracy: 1.0000\n",
      "Epoch 102/200\n",
      "25/25 [==============================] - 0s 2ms/step - loss: 6.4666e-04 - accuracy: 1.0000\n",
      "Epoch 103/200\n",
      "25/25 [==============================] - 0s 2ms/step - loss: 6.2563e-04 - accuracy: 1.0000\n",
      "Epoch 104/200\n",
      "25/25 [==============================] - 0s 3ms/step - loss: 6.5809e-04 - accuracy: 1.0000\n",
      "Epoch 105/200\n",
      "25/25 [==============================] - 0s 2ms/step - loss: 6.1261e-04 - accuracy: 1.0000\n",
      "Epoch 106/200\n",
      "25/25 [==============================] - 0s 2ms/step - loss: 5.8986e-04 - accuracy: 1.0000\n",
      "Epoch 107/200\n",
      "25/25 [==============================] - 0s 4ms/step - loss: 5.8234e-04 - accuracy: 1.0000\n",
      "Epoch 108/200\n",
      "25/25 [==============================] - 0s 3ms/step - loss: 5.6073e-04 - accuracy: 1.0000\n",
      "Epoch 109/200\n",
      "25/25 [==============================] - 0s 3ms/step - loss: 5.4855e-04 - accuracy: 1.0000\n",
      "Epoch 110/200\n",
      "25/25 [==============================] - 0s 3ms/step - loss: 5.1697e-04 - accuracy: 1.0000\n",
      "Epoch 111/200\n",
      "25/25 [==============================] - 0s 3ms/step - loss: 5.1280e-04 - accuracy: 1.0000\n",
      "Epoch 112/200\n",
      "25/25 [==============================] - 0s 4ms/step - loss: 5.0616e-04 - accuracy: 1.0000\n",
      "Epoch 113/200\n",
      "25/25 [==============================] - 0s 2ms/step - loss: 5.1537e-04 - accuracy: 1.0000\n",
      "Epoch 114/200\n",
      "25/25 [==============================] - 0s 2ms/step - loss: 4.8622e-04 - accuracy: 1.0000\n",
      "Epoch 115/200\n",
      "25/25 [==============================] - 0s 2ms/step - loss: 4.7022e-04 - accuracy: 1.0000\n",
      "Epoch 116/200\n",
      "25/25 [==============================] - 0s 2ms/step - loss: 4.6591e-04 - accuracy: 1.0000\n",
      "Epoch 117/200\n",
      "25/25 [==============================] - 0s 3ms/step - loss: 4.5549e-04 - accuracy: 1.0000\n",
      "Epoch 118/200\n",
      "25/25 [==============================] - 0s 3ms/step - loss: 4.2710e-04 - accuracy: 1.0000\n",
      "Epoch 119/200\n",
      "25/25 [==============================] - 0s 3ms/step - loss: 4.3574e-04 - accuracy: 1.0000\n",
      "Epoch 120/200\n",
      "25/25 [==============================] - 0s 3ms/step - loss: 4.3965e-04 - accuracy: 1.0000\n",
      "Epoch 121/200\n",
      "25/25 [==============================] - 0s 3ms/step - loss: 4.1126e-04 - accuracy: 1.0000\n",
      "Epoch 122/200\n",
      "25/25 [==============================] - 0s 3ms/step - loss: 6.5624e-04 - accuracy: 1.0000\n",
      "Epoch 123/200\n",
      "25/25 [==============================] - 0s 3ms/step - loss: 4.2365e-04 - accuracy: 1.0000\n",
      "Epoch 124/200\n",
      "25/25 [==============================] - 0s 3ms/step - loss: 3.8029e-04 - accuracy: 1.0000\n",
      "Epoch 125/200\n",
      "25/25 [==============================] - 0s 3ms/step - loss: 3.7287e-04 - accuracy: 1.0000\n",
      "Epoch 126/200\n",
      "25/25 [==============================] - 0s 3ms/step - loss: 3.6654e-04 - accuracy: 1.0000\n",
      "Epoch 127/200\n",
      "25/25 [==============================] - 0s 3ms/step - loss: 3.4568e-04 - accuracy: 1.0000\n",
      "Epoch 128/200\n",
      "25/25 [==============================] - 0s 2ms/step - loss: 3.4123e-04 - accuracy: 1.0000\n",
      "Epoch 129/200\n",
      "25/25 [==============================] - 0s 2ms/step - loss: 3.3125e-04 - accuracy: 1.0000\n",
      "Epoch 130/200\n",
      "25/25 [==============================] - 0s 3ms/step - loss: 3.3537e-04 - accuracy: 1.0000\n",
      "Epoch 131/200\n",
      "25/25 [==============================] - 0s 3ms/step - loss: 3.1277e-04 - accuracy: 1.0000\n",
      "Epoch 132/200\n",
      "25/25 [==============================] - 0s 3ms/step - loss: 3.0140e-04 - accuracy: 1.0000\n",
      "Epoch 133/200\n",
      "25/25 [==============================] - 0s 2ms/step - loss: 3.1095e-04 - accuracy: 1.0000\n",
      "Epoch 134/200\n",
      "25/25 [==============================] - 0s 3ms/step - loss: 2.9281e-04 - accuracy: 1.0000\n",
      "Epoch 135/200\n",
      "25/25 [==============================] - 0s 2ms/step - loss: 2.9206e-04 - accuracy: 1.0000\n",
      "Epoch 136/200\n",
      "25/25 [==============================] - 0s 2ms/step - loss: 2.8187e-04 - accuracy: 1.0000\n",
      "Epoch 137/200\n",
      "25/25 [==============================] - 0s 3ms/step - loss: 2.7675e-04 - accuracy: 1.0000\n",
      "Epoch 138/200\n",
      "25/25 [==============================] - 0s 2ms/step - loss: 2.6352e-04 - accuracy: 1.0000\n",
      "Epoch 139/200\n",
      "25/25 [==============================] - 0s 3ms/step - loss: 2.6117e-04 - accuracy: 1.0000\n",
      "Epoch 140/200\n",
      "25/25 [==============================] - 0s 3ms/step - loss: 2.4876e-04 - accuracy: 1.0000\n",
      "Epoch 141/200\n",
      "25/25 [==============================] - 0s 2ms/step - loss: 2.5189e-04 - accuracy: 1.0000\n",
      "Epoch 142/200\n",
      "25/25 [==============================] - 0s 3ms/step - loss: 2.3931e-04 - accuracy: 1.0000\n",
      "Epoch 143/200\n",
      "25/25 [==============================] - 0s 2ms/step - loss: 2.3750e-04 - accuracy: 1.0000\n",
      "Epoch 144/200\n",
      "25/25 [==============================] - 0s 2ms/step - loss: 2.2687e-04 - accuracy: 1.0000\n",
      "Epoch 145/200\n",
      "25/25 [==============================] - 0s 3ms/step - loss: 2.2732e-04 - accuracy: 1.0000\n",
      "Epoch 146/200\n",
      "25/25 [==============================] - 0s 2ms/step - loss: 2.2307e-04 - accuracy: 1.0000\n",
      "Epoch 147/200\n",
      "25/25 [==============================] - 0s 3ms/step - loss: 2.1527e-04 - accuracy: 1.0000\n",
      "Epoch 148/200\n",
      "25/25 [==============================] - 0s 3ms/step - loss: 2.1731e-04 - accuracy: 1.0000\n",
      "Epoch 149/200\n",
      "25/25 [==============================] - 0s 4ms/step - loss: 2.0679e-04 - accuracy: 1.0000\n",
      "Epoch 150/200\n",
      "25/25 [==============================] - 0s 3ms/step - loss: 2.0296e-04 - accuracy: 1.0000\n",
      "Epoch 151/200\n",
      "25/25 [==============================] - 0s 4ms/step - loss: 2.0095e-04 - accuracy: 1.0000\n",
      "Epoch 152/200\n",
      "25/25 [==============================] - 0s 3ms/step - loss: 1.9359e-04 - accuracy: 1.0000\n",
      "Epoch 153/200\n",
      "25/25 [==============================] - 0s 3ms/step - loss: 1.9339e-04 - accuracy: 1.0000\n",
      "Epoch 154/200\n",
      "25/25 [==============================] - 0s 3ms/step - loss: 1.8470e-04 - accuracy: 1.0000\n",
      "Epoch 155/200\n",
      "25/25 [==============================] - 0s 2ms/step - loss: 1.9599e-04 - accuracy: 1.0000\n",
      "Epoch 156/200\n",
      "25/25 [==============================] - 0s 2ms/step - loss: 1.7612e-04 - accuracy: 1.0000\n",
      "Epoch 157/200\n",
      "25/25 [==============================] - 0s 2ms/step - loss: 1.7826e-04 - accuracy: 1.0000\n",
      "Epoch 158/200\n",
      "25/25 [==============================] - 0s 4ms/step - loss: 1.7119e-04 - accuracy: 1.0000\n",
      "Epoch 159/200\n",
      "25/25 [==============================] - 0s 3ms/step - loss: 1.7807e-04 - accuracy: 1.0000\n",
      "Epoch 160/200\n",
      "25/25 [==============================] - 0s 3ms/step - loss: 1.7864e-04 - accuracy: 1.0000\n",
      "Epoch 161/200\n",
      "25/25 [==============================] - 0s 3ms/step - loss: 1.6265e-04 - accuracy: 1.0000\n",
      "Epoch 162/200\n",
      "25/25 [==============================] - 0s 4ms/step - loss: 1.6005e-04 - accuracy: 1.0000\n",
      "Epoch 163/200\n",
      "25/25 [==============================] - 0s 4ms/step - loss: 1.5599e-04 - accuracy: 1.0000\n",
      "Epoch 164/200\n",
      "25/25 [==============================] - 0s 3ms/step - loss: 1.5380e-04 - accuracy: 1.0000\n",
      "Epoch 165/200\n",
      "25/25 [==============================] - 0s 3ms/step - loss: 1.5087e-04 - accuracy: 1.0000\n",
      "Epoch 166/200\n",
      "25/25 [==============================] - 0s 3ms/step - loss: 1.4710e-04 - accuracy: 1.0000\n",
      "Epoch 167/200\n",
      "25/25 [==============================] - 0s 3ms/step - loss: 1.4449e-04 - accuracy: 1.0000\n",
      "Epoch 168/200\n",
      "25/25 [==============================] - 0s 2ms/step - loss: 1.4289e-04 - accuracy: 1.0000\n",
      "Epoch 169/200\n",
      "25/25 [==============================] - 0s 2ms/step - loss: 1.4381e-04 - accuracy: 1.0000\n",
      "Epoch 170/200\n",
      "25/25 [==============================] - 0s 3ms/step - loss: 1.3983e-04 - accuracy: 1.0000\n",
      "Epoch 171/200\n",
      "25/25 [==============================] - 0s 2ms/step - loss: 1.3346e-04 - accuracy: 1.0000\n",
      "Epoch 172/200\n",
      "25/25 [==============================] - 0s 2ms/step - loss: 1.3051e-04 - accuracy: 1.0000\n",
      "Epoch 173/200\n",
      "25/25 [==============================] - 0s 2ms/step - loss: 1.3111e-04 - accuracy: 1.0000\n",
      "Epoch 174/200\n",
      "25/25 [==============================] - 0s 2ms/step - loss: 1.2584e-04 - accuracy: 1.0000\n",
      "Epoch 175/200\n",
      "25/25 [==============================] - 0s 2ms/step - loss: 1.2655e-04 - accuracy: 1.0000\n",
      "Epoch 176/200\n",
      "25/25 [==============================] - 0s 2ms/step - loss: 1.2397e-04 - accuracy: 1.0000\n",
      "Epoch 177/200\n",
      "25/25 [==============================] - 0s 2ms/step - loss: 1.2049e-04 - accuracy: 1.0000\n",
      "Epoch 178/200\n",
      "25/25 [==============================] - 0s 4ms/step - loss: 1.1656e-04 - accuracy: 1.0000\n",
      "Epoch 179/200\n",
      "25/25 [==============================] - 0s 3ms/step - loss: 1.1562e-04 - accuracy: 1.0000\n",
      "Epoch 180/200\n",
      "25/25 [==============================] - 0s 4ms/step - loss: 1.1599e-04 - accuracy: 1.0000\n",
      "Epoch 181/200\n",
      "25/25 [==============================] - 0s 3ms/step - loss: 1.5607e-04 - accuracy: 1.0000\n",
      "Epoch 182/200\n",
      "25/25 [==============================] - 0s 3ms/step - loss: 1.3152e-04 - accuracy: 1.0000\n",
      "Epoch 183/200\n",
      "25/25 [==============================] - 0s 3ms/step - loss: 1.1063e-04 - accuracy: 1.0000\n",
      "Epoch 184/200\n",
      "25/25 [==============================] - 0s 3ms/step - loss: 1.0857e-04 - accuracy: 1.0000\n",
      "Epoch 185/200\n",
      "25/25 [==============================] - 0s 3ms/step - loss: 1.0651e-04 - accuracy: 1.0000\n",
      "Epoch 186/200\n",
      "25/25 [==============================] - 0s 3ms/step - loss: 1.0232e-04 - accuracy: 1.0000\n",
      "Epoch 187/200\n",
      "25/25 [==============================] - 0s 4ms/step - loss: 9.8569e-05 - accuracy: 1.0000\n",
      "Epoch 188/200\n",
      "25/25 [==============================] - 0s 3ms/step - loss: 9.6978e-05 - accuracy: 1.0000\n",
      "Epoch 189/200\n",
      "25/25 [==============================] - 0s 4ms/step - loss: 9.7597e-05 - accuracy: 1.0000\n",
      "Epoch 190/200\n",
      "25/25 [==============================] - 0s 3ms/step - loss: 9.3021e-05 - accuracy: 1.0000\n",
      "Epoch 191/200\n",
      "25/25 [==============================] - 0s 3ms/step - loss: 9.3085e-05 - accuracy: 1.0000\n",
      "Epoch 192/200\n",
      "25/25 [==============================] - 0s 3ms/step - loss: 9.0185e-05 - accuracy: 1.0000\n",
      "Epoch 193/200\n",
      "25/25 [==============================] - 0s 3ms/step - loss: 8.7818e-05 - accuracy: 1.0000\n",
      "Epoch 194/200\n",
      "25/25 [==============================] - 0s 3ms/step - loss: 8.8142e-05 - accuracy: 1.0000\n",
      "Epoch 195/200\n",
      "25/25 [==============================] - 0s 3ms/step - loss: 8.3735e-05 - accuracy: 1.0000\n",
      "Epoch 196/200\n",
      "25/25 [==============================] - 0s 2ms/step - loss: 8.8021e-05 - accuracy: 1.0000\n",
      "Epoch 197/200\n",
      "25/25 [==============================] - 0s 3ms/step - loss: 8.2940e-05 - accuracy: 1.0000\n",
      "Epoch 198/200\n",
      "25/25 [==============================] - 0s 3ms/step - loss: 8.0358e-05 - accuracy: 1.0000\n",
      "Epoch 199/200\n",
      "25/25 [==============================] - 0s 3ms/step - loss: 7.9263e-05 - accuracy: 1.0000\n",
      "Epoch 200/200\n",
      "25/25 [==============================] - 0s 3ms/step - loss: 8.0439e-05 - accuracy: 1.0000\n"
     ]
    }
   ],
   "source": [
    "from tensorflow import keras\n",
    "\n",
    "model3 = keras.models.Sequential([\n",
    "    keras.layers.Dense(300, activation=\"relu\"),\n",
    "    keras.layers.Dense(100, activation=\"relu\"),\n",
    "    keras.layers.Dense(2, activation=\"softmax\")\n",
    "])\n",
    "\n",
    "model3.compile(loss='categorical_crossentropy', optimizer='Adam', metrics=['accuracy'])\n",
    "history3 = model3.fit(x_train, y_train, epochs=200, batch_size=10)"
   ],
   "metadata": {
    "collapsed": false,
    "pycharm": {
     "name": "#%%\n"
    }
   }
  },
  {
   "cell_type": "code",
   "execution_count": 70,
   "outputs": [
    {
     "name": "stdout",
     "output_type": "stream",
     "text": [
      "2/2 [==============================] - 0s 9ms/step\n",
      "Model Accuracy: 0.8360655737704918\n"
     ]
    }
   ],
   "source": [
    "pred_x = model3.predict(x_test)\n",
    "y_val_pred = np.argmax(pred_x, axis=1)\n",
    "print(\"Model Accuracy:\", metrics.accuracy_score(y_test, y_val_pred))"
   ],
   "metadata": {
    "collapsed": false,
    "pycharm": {
     "name": "#%%\n"
    }
   }
  },
  {
   "cell_type": "code",
   "execution_count": 71,
   "outputs": [
    {
     "name": "stdout",
     "output_type": "stream",
     "text": [
      "Model: \"sequential_3\"\n",
      "_________________________________________________________________\n",
      " Layer (type)                Output Shape              Param #   \n",
      "=================================================================\n",
      " dense_7 (Dense)             (None, 300)               3300      \n",
      "                                                                 \n",
      " dense_8 (Dense)             (None, 100)               30100     \n",
      "                                                                 \n",
      " dense_9 (Dense)             (None, 2)                 202       \n",
      "                                                                 \n",
      "=================================================================\n",
      "Total params: 33,602\n",
      "Trainable params: 33,602\n",
      "Non-trainable params: 0\n",
      "_________________________________________________________________\n"
     ]
    }
   ],
   "source": [
    "model3.summary()"
   ],
   "metadata": {
    "collapsed": false,
    "pycharm": {
     "name": "#%%\n"
    }
   }
  },
  {
   "cell_type": "code",
   "execution_count": 72,
   "outputs": [
    {
     "name": "stdout",
     "output_type": "stream",
     "text": [
      "Epoch 1/200\n",
      "25/25 [==============================] - 1s 4ms/step - loss: 0.5180 - accuracy: 0.7562\n",
      "Epoch 2/200\n",
      "25/25 [==============================] - 0s 4ms/step - loss: 0.3859 - accuracy: 0.8264\n",
      "Epoch 3/200\n",
      "25/25 [==============================] - 0s 4ms/step - loss: 0.3377 - accuracy: 0.8223\n",
      "Epoch 4/200\n",
      "25/25 [==============================] - 0s 4ms/step - loss: 0.2785 - accuracy: 0.8926\n",
      "Epoch 5/200\n",
      "25/25 [==============================] - 0s 3ms/step - loss: 0.2528 - accuracy: 0.8967\n",
      "Epoch 6/200\n",
      "25/25 [==============================] - 0s 4ms/step - loss: 0.2074 - accuracy: 0.8967\n",
      "Epoch 7/200\n",
      "25/25 [==============================] - 0s 2ms/step - loss: 0.1828 - accuracy: 0.9215\n",
      "Epoch 8/200\n",
      "25/25 [==============================] - 0s 4ms/step - loss: 0.1843 - accuracy: 0.9132\n",
      "Epoch 9/200\n",
      "25/25 [==============================] - 0s 4ms/step - loss: 0.1293 - accuracy: 0.9587\n",
      "Epoch 10/200\n",
      "25/25 [==============================] - 0s 4ms/step - loss: 0.0913 - accuracy: 0.9752\n",
      "Epoch 11/200\n",
      "25/25 [==============================] - 0s 4ms/step - loss: 0.0887 - accuracy: 0.9711\n",
      "Epoch 12/200\n",
      "25/25 [==============================] - 0s 3ms/step - loss: 0.0936 - accuracy: 0.9669\n",
      "Epoch 13/200\n",
      "25/25 [==============================] - 0s 3ms/step - loss: 0.0739 - accuracy: 0.9752\n",
      "Epoch 14/200\n",
      "25/25 [==============================] - 0s 3ms/step - loss: 0.0797 - accuracy: 0.9835\n",
      "Epoch 15/200\n",
      "25/25 [==============================] - 0s 3ms/step - loss: 0.1007 - accuracy: 0.9504\n",
      "Epoch 16/200\n",
      "25/25 [==============================] - 0s 3ms/step - loss: 0.0814 - accuracy: 0.9752\n",
      "Epoch 17/200\n",
      "25/25 [==============================] - 0s 3ms/step - loss: 0.0544 - accuracy: 0.9876\n",
      "Epoch 18/200\n",
      "25/25 [==============================] - 0s 5ms/step - loss: 0.0320 - accuracy: 0.9876\n",
      "Epoch 19/200\n",
      "25/25 [==============================] - 0s 3ms/step - loss: 0.0217 - accuracy: 0.9917\n",
      "Epoch 20/200\n",
      "25/25 [==============================] - 0s 3ms/step - loss: 0.0107 - accuracy: 0.9959\n",
      "Epoch 21/200\n",
      "25/25 [==============================] - 0s 3ms/step - loss: 0.0079 - accuracy: 0.9959\n",
      "Epoch 22/200\n",
      "25/25 [==============================] - 0s 3ms/step - loss: 0.0100 - accuracy: 0.9959\n",
      "Epoch 23/200\n",
      "25/25 [==============================] - 0s 3ms/step - loss: 0.0125 - accuracy: 0.9959\n",
      "Epoch 24/200\n",
      "25/25 [==============================] - 0s 3ms/step - loss: 0.0084 - accuracy: 0.9959\n",
      "Epoch 25/200\n",
      "25/25 [==============================] - 0s 3ms/step - loss: 0.0063 - accuracy: 0.9959\n",
      "Epoch 26/200\n",
      "25/25 [==============================] - 0s 3ms/step - loss: 0.0057 - accuracy: 1.0000\n",
      "Epoch 27/200\n",
      "25/25 [==============================] - 0s 3ms/step - loss: 0.0040 - accuracy: 1.0000\n",
      "Epoch 28/200\n",
      "25/25 [==============================] - 0s 3ms/step - loss: 0.0043 - accuracy: 1.0000\n",
      "Epoch 29/200\n",
      "25/25 [==============================] - 0s 3ms/step - loss: 0.0048 - accuracy: 0.9959\n",
      "Epoch 30/200\n",
      "25/25 [==============================] - 0s 3ms/step - loss: 0.0033 - accuracy: 1.0000\n",
      "Epoch 31/200\n",
      "25/25 [==============================] - 0s 3ms/step - loss: 0.0032 - accuracy: 1.0000\n",
      "Epoch 32/200\n",
      "25/25 [==============================] - 0s 3ms/step - loss: 0.0022 - accuracy: 1.0000\n",
      "Epoch 33/200\n",
      "25/25 [==============================] - 0s 3ms/step - loss: 0.0016 - accuracy: 1.0000\n",
      "Epoch 34/200\n",
      "25/25 [==============================] - 0s 3ms/step - loss: 0.0013 - accuracy: 1.0000\n",
      "Epoch 35/200\n",
      "25/25 [==============================] - 0s 3ms/step - loss: 0.0011 - accuracy: 1.0000\n",
      "Epoch 36/200\n",
      "25/25 [==============================] - 0s 3ms/step - loss: 8.0434e-04 - accuracy: 1.0000\n",
      "Epoch 37/200\n",
      "25/25 [==============================] - 0s 3ms/step - loss: 7.4151e-04 - accuracy: 1.0000\n",
      "Epoch 38/200\n",
      "25/25 [==============================] - 0s 3ms/step - loss: 6.0026e-04 - accuracy: 1.0000\n",
      "Epoch 39/200\n",
      "25/25 [==============================] - 0s 3ms/step - loss: 5.0141e-04 - accuracy: 1.0000\n",
      "Epoch 40/200\n",
      "25/25 [==============================] - 0s 3ms/step - loss: 4.3541e-04 - accuracy: 1.0000\n",
      "Epoch 41/200\n",
      "25/25 [==============================] - 0s 3ms/step - loss: 3.9499e-04 - accuracy: 1.0000\n",
      "Epoch 42/200\n",
      "25/25 [==============================] - 0s 3ms/step - loss: 3.5604e-04 - accuracy: 1.0000\n",
      "Epoch 43/200\n",
      "25/25 [==============================] - 0s 3ms/step - loss: 3.2017e-04 - accuracy: 1.0000\n",
      "Epoch 44/200\n",
      "25/25 [==============================] - 0s 3ms/step - loss: 2.9317e-04 - accuracy: 1.0000\n",
      "Epoch 45/200\n",
      "25/25 [==============================] - 0s 3ms/step - loss: 2.6569e-04 - accuracy: 1.0000\n",
      "Epoch 46/200\n",
      "25/25 [==============================] - 0s 5ms/step - loss: 2.5036e-04 - accuracy: 1.0000\n",
      "Epoch 47/200\n",
      "25/25 [==============================] - 0s 3ms/step - loss: 2.2354e-04 - accuracy: 1.0000\n",
      "Epoch 48/200\n",
      "25/25 [==============================] - 0s 4ms/step - loss: 2.0174e-04 - accuracy: 1.0000\n",
      "Epoch 49/200\n",
      "25/25 [==============================] - 0s 3ms/step - loss: 1.9313e-04 - accuracy: 1.0000\n",
      "Epoch 50/200\n",
      "25/25 [==============================] - 0s 3ms/step - loss: 1.7579e-04 - accuracy: 1.0000\n",
      "Epoch 51/200\n",
      "25/25 [==============================] - 0s 4ms/step - loss: 1.6425e-04 - accuracy: 1.0000\n",
      "Epoch 52/200\n",
      "25/25 [==============================] - 0s 3ms/step - loss: 1.5649e-04 - accuracy: 1.0000\n",
      "Epoch 53/200\n",
      "25/25 [==============================] - 0s 3ms/step - loss: 1.4451e-04 - accuracy: 1.0000\n",
      "Epoch 54/200\n",
      "25/25 [==============================] - 0s 3ms/step - loss: 1.3991e-04 - accuracy: 1.0000\n",
      "Epoch 55/200\n",
      "25/25 [==============================] - 0s 3ms/step - loss: 1.3184e-04 - accuracy: 1.0000\n",
      "Epoch 56/200\n",
      "25/25 [==============================] - 0s 3ms/step - loss: 1.1981e-04 - accuracy: 1.0000\n",
      "Epoch 57/200\n",
      "25/25 [==============================] - 0s 4ms/step - loss: 1.1412e-04 - accuracy: 1.0000\n",
      "Epoch 58/200\n",
      "25/25 [==============================] - 0s 4ms/step - loss: 1.0809e-04 - accuracy: 1.0000\n",
      "Epoch 59/200\n",
      "25/25 [==============================] - 0s 3ms/step - loss: 1.0012e-04 - accuracy: 1.0000\n",
      "Epoch 60/200\n",
      "25/25 [==============================] - 0s 3ms/step - loss: 9.4389e-05 - accuracy: 1.0000\n",
      "Epoch 61/200\n",
      "25/25 [==============================] - 0s 3ms/step - loss: 8.9146e-05 - accuracy: 1.0000\n",
      "Epoch 62/200\n",
      "25/25 [==============================] - 0s 3ms/step - loss: 8.4340e-05 - accuracy: 1.0000\n",
      "Epoch 63/200\n",
      "25/25 [==============================] - 0s 3ms/step - loss: 8.0847e-05 - accuracy: 1.0000\n",
      "Epoch 64/200\n",
      "25/25 [==============================] - 0s 3ms/step - loss: 7.7389e-05 - accuracy: 1.0000\n",
      "Epoch 65/200\n",
      "25/25 [==============================] - 0s 3ms/step - loss: 7.2948e-05 - accuracy: 1.0000\n",
      "Epoch 66/200\n",
      "25/25 [==============================] - 0s 3ms/step - loss: 6.8108e-05 - accuracy: 1.0000\n",
      "Epoch 67/200\n",
      "25/25 [==============================] - 0s 3ms/step - loss: 6.7452e-05 - accuracy: 1.0000\n",
      "Epoch 68/200\n",
      "25/25 [==============================] - 0s 3ms/step - loss: 6.2999e-05 - accuracy: 1.0000\n",
      "Epoch 69/200\n",
      "25/25 [==============================] - 0s 4ms/step - loss: 6.0992e-05 - accuracy: 1.0000\n",
      "Epoch 70/200\n",
      "25/25 [==============================] - 0s 3ms/step - loss: 5.7683e-05 - accuracy: 1.0000\n",
      "Epoch 71/200\n",
      "25/25 [==============================] - 0s 3ms/step - loss: 5.4724e-05 - accuracy: 1.0000\n",
      "Epoch 72/200\n",
      "25/25 [==============================] - 0s 3ms/step - loss: 5.2441e-05 - accuracy: 1.0000\n",
      "Epoch 73/200\n",
      "25/25 [==============================] - 0s 3ms/step - loss: 4.9882e-05 - accuracy: 1.0000\n",
      "Epoch 74/200\n",
      "25/25 [==============================] - 0s 3ms/step - loss: 4.7838e-05 - accuracy: 1.0000\n",
      "Epoch 75/200\n",
      "25/25 [==============================] - 0s 3ms/step - loss: 4.5747e-05 - accuracy: 1.0000\n",
      "Epoch 76/200\n",
      "25/25 [==============================] - 0s 3ms/step - loss: 4.4053e-05 - accuracy: 1.0000\n",
      "Epoch 77/200\n",
      "25/25 [==============================] - 0s 4ms/step - loss: 4.2549e-05 - accuracy: 1.0000\n",
      "Epoch 78/200\n",
      "25/25 [==============================] - 0s 4ms/step - loss: 4.0981e-05 - accuracy: 1.0000\n",
      "Epoch 79/200\n",
      "25/25 [==============================] - 0s 4ms/step - loss: 3.9400e-05 - accuracy: 1.0000\n",
      "Epoch 80/200\n",
      "25/25 [==============================] - 0s 3ms/step - loss: 3.7338e-05 - accuracy: 1.0000\n",
      "Epoch 81/200\n",
      "25/25 [==============================] - 0s 4ms/step - loss: 3.6036e-05 - accuracy: 1.0000\n",
      "Epoch 82/200\n",
      "25/25 [==============================] - 0s 3ms/step - loss: 3.5267e-05 - accuracy: 1.0000\n",
      "Epoch 83/200\n",
      "25/25 [==============================] - 0s 3ms/step - loss: 3.3678e-05 - accuracy: 1.0000\n",
      "Epoch 84/200\n",
      "25/25 [==============================] - 0s 3ms/step - loss: 3.2293e-05 - accuracy: 1.0000\n",
      "Epoch 85/200\n",
      "25/25 [==============================] - 0s 3ms/step - loss: 3.0988e-05 - accuracy: 1.0000\n",
      "Epoch 86/200\n",
      "25/25 [==============================] - 0s 3ms/step - loss: 3.0359e-05 - accuracy: 1.0000\n",
      "Epoch 87/200\n",
      "25/25 [==============================] - 0s 3ms/step - loss: 2.8960e-05 - accuracy: 1.0000\n",
      "Epoch 88/200\n",
      "25/25 [==============================] - 0s 3ms/step - loss: 2.8182e-05 - accuracy: 1.0000\n",
      "Epoch 89/200\n",
      "25/25 [==============================] - 0s 3ms/step - loss: 2.6935e-05 - accuracy: 1.0000\n",
      "Epoch 90/200\n",
      "25/25 [==============================] - 0s 3ms/step - loss: 2.5960e-05 - accuracy: 1.0000\n",
      "Epoch 91/200\n",
      "25/25 [==============================] - 0s 3ms/step - loss: 2.5083e-05 - accuracy: 1.0000\n",
      "Epoch 92/200\n",
      "25/25 [==============================] - 0s 4ms/step - loss: 2.4502e-05 - accuracy: 1.0000\n",
      "Epoch 93/200\n",
      "25/25 [==============================] - 0s 3ms/step - loss: 2.3597e-05 - accuracy: 1.0000\n",
      "Epoch 94/200\n",
      "25/25 [==============================] - 0s 4ms/step - loss: 2.2430e-05 - accuracy: 1.0000\n",
      "Epoch 95/200\n",
      "25/25 [==============================] - 0s 3ms/step - loss: 2.1862e-05 - accuracy: 1.0000\n",
      "Epoch 96/200\n",
      "25/25 [==============================] - 0s 3ms/step - loss: 2.1226e-05 - accuracy: 1.0000\n",
      "Epoch 97/200\n",
      "25/25 [==============================] - 0s 4ms/step - loss: 2.0445e-05 - accuracy: 1.0000\n",
      "Epoch 98/200\n",
      "25/25 [==============================] - 0s 4ms/step - loss: 1.9977e-05 - accuracy: 1.0000\n",
      "Epoch 99/200\n",
      "25/25 [==============================] - 0s 4ms/step - loss: 1.9022e-05 - accuracy: 1.0000\n",
      "Epoch 100/200\n",
      "25/25 [==============================] - 0s 4ms/step - loss: 1.8575e-05 - accuracy: 1.0000\n",
      "Epoch 101/200\n",
      "25/25 [==============================] - 0s 4ms/step - loss: 1.8002e-05 - accuracy: 1.0000\n",
      "Epoch 102/200\n",
      "25/25 [==============================] - 0s 4ms/step - loss: 1.7453e-05 - accuracy: 1.0000\n",
      "Epoch 103/200\n",
      "25/25 [==============================] - 0s 4ms/step - loss: 1.7167e-05 - accuracy: 1.0000\n",
      "Epoch 104/200\n",
      "25/25 [==============================] - 0s 4ms/step - loss: 1.6338e-05 - accuracy: 1.0000\n",
      "Epoch 105/200\n",
      "25/25 [==============================] - 0s 3ms/step - loss: 1.5839e-05 - accuracy: 1.0000\n",
      "Epoch 106/200\n",
      "25/25 [==============================] - 0s 4ms/step - loss: 1.5489e-05 - accuracy: 1.0000\n",
      "Epoch 107/200\n",
      "25/25 [==============================] - 0s 3ms/step - loss: 1.5328e-05 - accuracy: 1.0000\n",
      "Epoch 108/200\n",
      "25/25 [==============================] - 0s 4ms/step - loss: 1.4646e-05 - accuracy: 1.0000\n",
      "Epoch 109/200\n",
      "25/25 [==============================] - 0s 3ms/step - loss: 1.3909e-05 - accuracy: 1.0000\n",
      "Epoch 110/200\n",
      "25/25 [==============================] - 0s 3ms/step - loss: 1.3549e-05 - accuracy: 1.0000\n",
      "Epoch 111/200\n",
      "25/25 [==============================] - 0s 3ms/step - loss: 1.3052e-05 - accuracy: 1.0000\n",
      "Epoch 112/200\n",
      "25/25 [==============================] - 0s 3ms/step - loss: 1.2648e-05 - accuracy: 1.0000\n",
      "Epoch 113/200\n",
      "25/25 [==============================] - 0s 3ms/step - loss: 1.2328e-05 - accuracy: 1.0000\n",
      "Epoch 114/200\n",
      "25/25 [==============================] - 0s 4ms/step - loss: 1.1924e-05 - accuracy: 1.0000\n",
      "Epoch 115/200\n",
      "25/25 [==============================] - 0s 4ms/step - loss: 1.2825e-05 - accuracy: 1.0000\n",
      "Epoch 116/200\n",
      "25/25 [==============================] - 0s 3ms/step - loss: 1.1995e-05 - accuracy: 1.0000\n",
      "Epoch 117/200\n",
      "25/25 [==============================] - 0s 3ms/step - loss: 1.1083e-05 - accuracy: 1.0000\n",
      "Epoch 118/200\n",
      "25/25 [==============================] - 0s 3ms/step - loss: 1.0489e-05 - accuracy: 1.0000\n",
      "Epoch 119/200\n",
      "25/25 [==============================] - 0s 3ms/step - loss: 1.0135e-05 - accuracy: 1.0000\n",
      "Epoch 120/200\n",
      "25/25 [==============================] - 0s 4ms/step - loss: 9.7785e-06 - accuracy: 1.0000\n",
      "Epoch 121/200\n",
      "25/25 [==============================] - 0s 3ms/step - loss: 9.5732e-06 - accuracy: 1.0000\n",
      "Epoch 122/200\n",
      "25/25 [==============================] - 0s 3ms/step - loss: 9.2787e-06 - accuracy: 1.0000\n",
      "Epoch 123/200\n",
      "25/25 [==============================] - 0s 4ms/step - loss: 8.9320e-06 - accuracy: 1.0000\n",
      "Epoch 124/200\n",
      "25/25 [==============================] - 0s 3ms/step - loss: 8.8836e-06 - accuracy: 1.0000\n",
      "Epoch 125/200\n",
      "25/25 [==============================] - 0s 5ms/step - loss: 8.4966e-06 - accuracy: 1.0000\n",
      "Epoch 126/200\n",
      "25/25 [==============================] - 0s 3ms/step - loss: 8.2499e-06 - accuracy: 1.0000\n",
      "Epoch 127/200\n",
      "25/25 [==============================] - 0s 3ms/step - loss: 8.0258e-06 - accuracy: 1.0000\n",
      "Epoch 128/200\n",
      "25/25 [==============================] - 0s 4ms/step - loss: 7.8633e-06 - accuracy: 1.0000\n",
      "Epoch 129/200\n",
      "25/25 [==============================] - 0s 3ms/step - loss: 7.6279e-06 - accuracy: 1.0000\n",
      "Epoch 130/200\n",
      "25/25 [==============================] - 0s 3ms/step - loss: 7.4989e-06 - accuracy: 1.0000\n",
      "Epoch 131/200\n",
      "25/25 [==============================] - 0s 3ms/step - loss: 7.3004e-06 - accuracy: 1.0000\n",
      "Epoch 132/200\n",
      "25/25 [==============================] - 0s 3ms/step - loss: 7.1866e-06 - accuracy: 1.0000\n",
      "Epoch 133/200\n",
      "25/25 [==============================] - 0s 3ms/step - loss: 6.9881e-06 - accuracy: 1.0000\n",
      "Epoch 134/200\n",
      "25/25 [==============================] - 0s 3ms/step - loss: 6.7626e-06 - accuracy: 1.0000\n",
      "Epoch 135/200\n",
      "25/25 [==============================] - 0s 3ms/step - loss: 6.5572e-06 - accuracy: 1.0000\n",
      "Epoch 136/200\n",
      "25/25 [==============================] - 0s 3ms/step - loss: 6.4957e-06 - accuracy: 1.0000\n",
      "Epoch 137/200\n",
      "25/25 [==============================] - 0s 3ms/step - loss: 6.2696e-06 - accuracy: 1.0000\n",
      "Epoch 138/200\n",
      "25/25 [==============================] - 0s 3ms/step - loss: 6.1228e-06 - accuracy: 1.0000\n",
      "Epoch 139/200\n",
      "25/25 [==============================] - 0s 4ms/step - loss: 5.9347e-06 - accuracy: 1.0000\n",
      "Epoch 140/200\n",
      "25/25 [==============================] - 0s 3ms/step - loss: 5.9007e-06 - accuracy: 1.0000\n",
      "Epoch 141/200\n",
      "25/25 [==============================] - 0s 3ms/step - loss: 5.7091e-06 - accuracy: 1.0000\n",
      "Epoch 142/200\n",
      "25/25 [==============================] - 0s 3ms/step - loss: 5.5658e-06 - accuracy: 1.0000\n",
      "Epoch 143/200\n",
      "25/25 [==============================] - 0s 3ms/step - loss: 5.4442e-06 - accuracy: 1.0000\n",
      "Epoch 144/200\n",
      "25/25 [==============================] - 0s 3ms/step - loss: 5.2531e-06 - accuracy: 1.0000\n",
      "Epoch 145/200\n",
      "25/25 [==============================] - 0s 3ms/step - loss: 5.1659e-06 - accuracy: 1.0000\n",
      "Epoch 146/200\n",
      "25/25 [==============================] - 0s 3ms/step - loss: 4.9980e-06 - accuracy: 1.0000\n",
      "Epoch 147/200\n",
      "25/25 [==============================] - 0s 3ms/step - loss: 4.9374e-06 - accuracy: 1.0000\n",
      "Epoch 148/200\n",
      "25/25 [==============================] - 0s 4ms/step - loss: 4.7936e-06 - accuracy: 1.0000\n",
      "Epoch 149/200\n",
      "25/25 [==============================] - 0s 3ms/step - loss: 4.6562e-06 - accuracy: 1.0000\n",
      "Epoch 150/200\n",
      "25/25 [==============================] - 0s 3ms/step - loss: 4.5936e-06 - accuracy: 1.0000\n",
      "Epoch 151/200\n",
      "25/25 [==============================] - 0s 3ms/step - loss: 4.5714e-06 - accuracy: 1.0000\n",
      "Epoch 152/200\n",
      "25/25 [==============================] - 0s 3ms/step - loss: 4.3951e-06 - accuracy: 1.0000\n",
      "Epoch 153/200\n",
      "25/25 [==============================] - 0s 3ms/step - loss: 4.2193e-06 - accuracy: 1.0000\n",
      "Epoch 154/200\n",
      "25/25 [==============================] - 0s 3ms/step - loss: 4.1035e-06 - accuracy: 1.0000\n",
      "Epoch 155/200\n",
      "25/25 [==============================] - 0s 3ms/step - loss: 4.0223e-06 - accuracy: 1.0000\n",
      "Epoch 156/200\n",
      "25/25 [==============================] - 0s 3ms/step - loss: 3.9011e-06 - accuracy: 1.0000\n",
      "Epoch 157/200\n",
      "25/25 [==============================] - 0s 3ms/step - loss: 3.8070e-06 - accuracy: 1.0000\n",
      "Epoch 158/200\n",
      "25/25 [==============================] - 0s 4ms/step - loss: 3.7100e-06 - accuracy: 1.0000\n",
      "Epoch 159/200\n",
      "25/25 [==============================] - 0s 3ms/step - loss: 3.6603e-06 - accuracy: 1.0000\n",
      "Epoch 160/200\n",
      "25/25 [==============================] - 0s 3ms/step - loss: 3.5573e-06 - accuracy: 1.0000\n",
      "Epoch 161/200\n",
      "25/25 [==============================] - 0s 5ms/step - loss: 3.5046e-06 - accuracy: 1.0000\n",
      "Epoch 162/200\n",
      "25/25 [==============================] - 0s 3ms/step - loss: 3.4174e-06 - accuracy: 1.0000\n",
      "Epoch 163/200\n",
      "25/25 [==============================] - 0s 3ms/step - loss: 3.3367e-06 - accuracy: 1.0000\n",
      "Epoch 164/200\n",
      "25/25 [==============================] - 0s 3ms/step - loss: 3.2973e-06 - accuracy: 1.0000\n",
      "Epoch 165/200\n",
      "25/25 [==============================] - 0s 3ms/step - loss: 3.1879e-06 - accuracy: 1.0000\n",
      "Epoch 166/200\n",
      "25/25 [==============================] - 0s 3ms/step - loss: 3.1283e-06 - accuracy: 1.0000\n",
      "Epoch 167/200\n",
      "25/25 [==============================] - 0s 3ms/step - loss: 3.0594e-06 - accuracy: 1.0000\n",
      "Epoch 168/200\n",
      "25/25 [==============================] - 0s 3ms/step - loss: 2.9934e-06 - accuracy: 1.0000\n",
      "Epoch 169/200\n",
      "25/25 [==============================] - 0s 3ms/step - loss: 2.9392e-06 - accuracy: 1.0000\n",
      "Epoch 170/200\n",
      "25/25 [==============================] - 0s 3ms/step - loss: 2.8752e-06 - accuracy: 1.0000\n",
      "Epoch 171/200\n",
      "25/25 [==============================] - 0s 3ms/step - loss: 2.8092e-06 - accuracy: 1.0000\n",
      "Epoch 172/200\n",
      "25/25 [==============================] - 0s 4ms/step - loss: 2.7392e-06 - accuracy: 1.0000\n",
      "Epoch 173/200\n",
      "25/25 [==============================] - 0s 5ms/step - loss: 2.6895e-06 - accuracy: 1.0000\n",
      "Epoch 174/200\n",
      "25/25 [==============================] - 0s 3ms/step - loss: 2.6338e-06 - accuracy: 1.0000\n",
      "Epoch 175/200\n",
      "25/25 [==============================] - 0s 3ms/step - loss: 2.5919e-06 - accuracy: 1.0000\n",
      "Epoch 176/200\n",
      "25/25 [==============================] - 0s 3ms/step - loss: 2.4634e-06 - accuracy: 1.0000\n",
      "Epoch 177/200\n",
      "25/25 [==============================] - 0s 3ms/step - loss: 2.6722e-06 - accuracy: 1.0000\n",
      "Epoch 178/200\n",
      "25/25 [==============================] - 0s 3ms/step - loss: 2.5038e-06 - accuracy: 1.0000\n",
      "Epoch 179/200\n",
      "25/25 [==============================] - 0s 4ms/step - loss: 2.4067e-06 - accuracy: 1.0000\n",
      "Epoch 180/200\n",
      "25/25 [==============================] - 0s 3ms/step - loss: 2.2954e-06 - accuracy: 1.0000\n",
      "Epoch 181/200\n",
      "25/25 [==============================] - 0s 3ms/step - loss: 2.2215e-06 - accuracy: 1.0000\n",
      "Epoch 182/200\n",
      "25/25 [==============================] - 0s 3ms/step - loss: 2.1762e-06 - accuracy: 1.0000\n",
      "Epoch 183/200\n",
      "25/25 [==============================] - 0s 3ms/step - loss: 2.1319e-06 - accuracy: 1.0000\n",
      "Epoch 184/200\n",
      "25/25 [==============================] - 0s 3ms/step - loss: 2.0969e-06 - accuracy: 1.0000\n",
      "Epoch 185/200\n",
      "25/25 [==============================] - 0s 4ms/step - loss: 2.0477e-06 - accuracy: 1.0000\n",
      "Epoch 186/200\n",
      "25/25 [==============================] - 0s 3ms/step - loss: 2.0132e-06 - accuracy: 1.0000\n",
      "Epoch 187/200\n",
      "25/25 [==============================] - 0s 3ms/step - loss: 1.9615e-06 - accuracy: 1.0000\n",
      "Epoch 188/200\n",
      "25/25 [==============================] - 0s 3ms/step - loss: 1.9324e-06 - accuracy: 1.0000\n",
      "Epoch 189/200\n",
      "25/25 [==============================] - 0s 3ms/step - loss: 1.8905e-06 - accuracy: 1.0000\n",
      "Epoch 190/200\n",
      "25/25 [==============================] - 0s 3ms/step - loss: 1.8625e-06 - accuracy: 1.0000\n",
      "Epoch 191/200\n",
      "25/25 [==============================] - 0s 4ms/step - loss: 1.8270e-06 - accuracy: 1.0000\n",
      "Epoch 192/200\n",
      "25/25 [==============================] - 0s 3ms/step - loss: 1.8063e-06 - accuracy: 1.0000\n",
      "Epoch 193/200\n",
      "25/25 [==============================] - 0s 3ms/step - loss: 1.7595e-06 - accuracy: 1.0000\n",
      "Epoch 194/200\n",
      "25/25 [==============================] - 0s 3ms/step - loss: 1.7250e-06 - accuracy: 1.0000\n",
      "Epoch 195/200\n",
      "25/25 [==============================] - 0s 3ms/step - loss: 1.6970e-06 - accuracy: 1.0000\n",
      "Epoch 196/200\n",
      "25/25 [==============================] - 0s 3ms/step - loss: 1.6640e-06 - accuracy: 1.0000\n",
      "Epoch 197/200\n",
      "25/25 [==============================] - 0s 4ms/step - loss: 1.6457e-06 - accuracy: 1.0000\n",
      "Epoch 198/200\n",
      "25/25 [==============================] - 0s 3ms/step - loss: 1.6024e-06 - accuracy: 1.0000\n",
      "Epoch 199/200\n",
      "25/25 [==============================] - 0s 3ms/step - loss: 1.5846e-06 - accuracy: 1.0000\n",
      "Epoch 200/200\n",
      "25/25 [==============================] - 0s 3ms/step - loss: 1.5472e-06 - accuracy: 1.0000\n"
     ]
    }
   ],
   "source": [
    "from tensorflow import keras\n",
    "\n",
    "model4 = keras.models.Sequential([\n",
    "    keras.layers.Dense(300, activation=\"relu\"),\n",
    "    keras.layers.Dense(200, activation=\"relu\"),\n",
    "    keras.layers.Dense(100, activation=\"relu\"),\n",
    "    keras.layers.Dense(50, activation=\"relu\"),\n",
    "    keras.layers.Dense(2, activation=\"softmax\")\n",
    "])\n",
    "\n",
    "model4.compile(loss='categorical_crossentropy', optimizer='Adam', metrics=['accuracy'])\n",
    "history4 = model4.fit(x_train, y_train, epochs=200, batch_size=10)"
   ],
   "metadata": {
    "collapsed": false,
    "pycharm": {
     "name": "#%%\n"
    }
   }
  },
  {
   "cell_type": "code",
   "execution_count": 73,
   "outputs": [
    {
     "name": "stdout",
     "output_type": "stream",
     "text": [
      "WARNING:tensorflow:5 out of the last 11 calls to <function Model.make_predict_function.<locals>.predict_function at 0x7f9672331900> triggered tf.function retracing. Tracing is expensive and the excessive number of tracings could be due to (1) creating @tf.function repeatedly in a loop, (2) passing tensors with different shapes, (3) passing Python objects instead of tensors. For (1), please define your @tf.function outside of the loop. For (2), @tf.function has reduce_retracing=True option that can avoid unnecessary retracing. For (3), please refer to https://www.tensorflow.org/guide/function#controlling_retracing and https://www.tensorflow.org/api_docs/python/tf/function for  more details.\n",
      "2/2 [==============================] - 0s 3ms/step\n",
      "Model Accuracy: 0.8524590163934426\n"
     ]
    }
   ],
   "source": [
    "pred_x = model4.predict(x_test)\n",
    "y_val_pred = np.argmax(pred_x, axis=1)\n",
    "print(\"Model Accuracy:\", metrics.accuracy_score(y_test, y_val_pred))"
   ],
   "metadata": {
    "collapsed": false,
    "pycharm": {
     "name": "#%%\n"
    }
   }
  },
  {
   "cell_type": "code",
   "execution_count": 74,
   "outputs": [
    {
     "name": "stdout",
     "output_type": "stream",
     "text": [
      "Epoch 1/100\n",
      "8/8 [==============================] - 1s 4ms/step - loss: 0.6721 - accuracy: 0.5868\n",
      "Epoch 2/100\n",
      "8/8 [==============================] - 0s 4ms/step - loss: 0.5882 - accuracy: 0.7727\n",
      "Epoch 3/100\n",
      "8/8 [==============================] - 0s 4ms/step - loss: 0.5250 - accuracy: 0.7769\n",
      "Epoch 4/100\n",
      "8/8 [==============================] - 0s 5ms/step - loss: 0.4904 - accuracy: 0.7934\n",
      "Epoch 5/100\n",
      "8/8 [==============================] - 0s 5ms/step - loss: 0.4546 - accuracy: 0.8140\n",
      "Epoch 6/100\n",
      "8/8 [==============================] - 0s 5ms/step - loss: 0.4263 - accuracy: 0.8306\n",
      "Epoch 7/100\n",
      "8/8 [==============================] - 0s 6ms/step - loss: 0.4056 - accuracy: 0.8388\n",
      "Epoch 8/100\n",
      "8/8 [==============================] - 0s 6ms/step - loss: 0.3868 - accuracy: 0.8554\n",
      "Epoch 9/100\n",
      "8/8 [==============================] - 0s 4ms/step - loss: 0.3723 - accuracy: 0.8636\n",
      "Epoch 10/100\n",
      "8/8 [==============================] - 0s 3ms/step - loss: 0.3525 - accuracy: 0.8719\n",
      "Epoch 11/100\n",
      "8/8 [==============================] - 0s 4ms/step - loss: 0.3436 - accuracy: 0.8719\n",
      "Epoch 12/100\n",
      "8/8 [==============================] - 0s 4ms/step - loss: 0.3260 - accuracy: 0.8719\n",
      "Epoch 13/100\n",
      "8/8 [==============================] - 0s 5ms/step - loss: 0.3158 - accuracy: 0.8802\n",
      "Epoch 14/100\n",
      "8/8 [==============================] - 0s 5ms/step - loss: 0.2993 - accuracy: 0.8843\n",
      "Epoch 15/100\n",
      "8/8 [==============================] - 0s 4ms/step - loss: 0.2850 - accuracy: 0.8843\n",
      "Epoch 16/100\n",
      "8/8 [==============================] - 0s 4ms/step - loss: 0.2739 - accuracy: 0.8843\n",
      "Epoch 17/100\n",
      "8/8 [==============================] - 0s 4ms/step - loss: 0.2586 - accuracy: 0.8926\n",
      "Epoch 18/100\n",
      "8/8 [==============================] - 0s 5ms/step - loss: 0.2446 - accuracy: 0.8967\n",
      "Epoch 19/100\n",
      "8/8 [==============================] - 0s 4ms/step - loss: 0.2298 - accuracy: 0.9050\n",
      "Epoch 20/100\n",
      "8/8 [==============================] - 0s 4ms/step - loss: 0.2178 - accuracy: 0.9132\n",
      "Epoch 21/100\n",
      "8/8 [==============================] - 0s 5ms/step - loss: 0.2030 - accuracy: 0.9215\n",
      "Epoch 22/100\n",
      "8/8 [==============================] - 0s 5ms/step - loss: 0.1900 - accuracy: 0.9256\n",
      "Epoch 23/100\n",
      "8/8 [==============================] - 0s 3ms/step - loss: 0.1811 - accuracy: 0.9298\n",
      "Epoch 24/100\n",
      "8/8 [==============================] - 0s 4ms/step - loss: 0.1783 - accuracy: 0.9298\n",
      "Epoch 25/100\n",
      "8/8 [==============================] - 0s 3ms/step - loss: 0.1799 - accuracy: 0.9174\n",
      "Epoch 26/100\n",
      "8/8 [==============================] - 0s 5ms/step - loss: 0.1470 - accuracy: 0.9463\n",
      "Epoch 27/100\n",
      "8/8 [==============================] - 0s 3ms/step - loss: 0.1373 - accuracy: 0.9504\n",
      "Epoch 28/100\n",
      "8/8 [==============================] - 0s 3ms/step - loss: 0.1283 - accuracy: 0.9628\n",
      "Epoch 29/100\n",
      "8/8 [==============================] - 0s 4ms/step - loss: 0.1283 - accuracy: 0.9545\n",
      "Epoch 30/100\n",
      "8/8 [==============================] - 0s 3ms/step - loss: 0.1193 - accuracy: 0.9587\n",
      "Epoch 31/100\n",
      "8/8 [==============================] - 0s 3ms/step - loss: 0.1008 - accuracy: 0.9752\n",
      "Epoch 32/100\n",
      "8/8 [==============================] - 0s 4ms/step - loss: 0.0933 - accuracy: 0.9835\n",
      "Epoch 33/100\n",
      "8/8 [==============================] - 0s 5ms/step - loss: 0.0859 - accuracy: 0.9793\n",
      "Epoch 34/100\n",
      "8/8 [==============================] - 0s 4ms/step - loss: 0.0773 - accuracy: 0.9876\n",
      "Epoch 35/100\n",
      "8/8 [==============================] - 0s 4ms/step - loss: 0.0709 - accuracy: 0.9876\n",
      "Epoch 36/100\n",
      "8/8 [==============================] - 0s 3ms/step - loss: 0.0646 - accuracy: 0.9876\n",
      "Epoch 37/100\n",
      "8/8 [==============================] - 0s 5ms/step - loss: 0.0588 - accuracy: 0.9876\n",
      "Epoch 38/100\n",
      "8/8 [==============================] - 0s 4ms/step - loss: 0.0564 - accuracy: 0.9835\n",
      "Epoch 39/100\n",
      "8/8 [==============================] - 0s 4ms/step - loss: 0.0526 - accuracy: 0.9876\n",
      "Epoch 40/100\n",
      "8/8 [==============================] - 0s 4ms/step - loss: 0.0503 - accuracy: 0.9835\n",
      "Epoch 41/100\n",
      "8/8 [==============================] - 0s 5ms/step - loss: 0.0458 - accuracy: 1.0000\n",
      "Epoch 42/100\n",
      "8/8 [==============================] - 0s 4ms/step - loss: 0.0393 - accuracy: 0.9959\n",
      "Epoch 43/100\n",
      "8/8 [==============================] - 0s 4ms/step - loss: 0.0366 - accuracy: 0.9959\n",
      "Epoch 44/100\n",
      "8/8 [==============================] - 0s 2ms/step - loss: 0.0386 - accuracy: 0.9917\n",
      "Epoch 45/100\n",
      "8/8 [==============================] - 0s 4ms/step - loss: 0.0349 - accuracy: 0.9959\n",
      "Epoch 46/100\n",
      "8/8 [==============================] - 0s 3ms/step - loss: 0.0292 - accuracy: 0.9959\n",
      "Epoch 47/100\n",
      "8/8 [==============================] - 0s 3ms/step - loss: 0.0266 - accuracy: 0.9959\n",
      "Epoch 48/100\n",
      "8/8 [==============================] - 0s 4ms/step - loss: 0.0221 - accuracy: 1.0000\n",
      "Epoch 49/100\n",
      "8/8 [==============================] - 0s 3ms/step - loss: 0.0218 - accuracy: 0.9959\n",
      "Epoch 50/100\n",
      "8/8 [==============================] - 0s 3ms/step - loss: 0.0200 - accuracy: 0.9959\n",
      "Epoch 51/100\n",
      "8/8 [==============================] - 0s 3ms/step - loss: 0.0191 - accuracy: 1.0000\n",
      "Epoch 52/100\n",
      "8/8 [==============================] - 0s 3ms/step - loss: 0.0169 - accuracy: 1.0000\n",
      "Epoch 53/100\n",
      "8/8 [==============================] - 0s 3ms/step - loss: 0.0169 - accuracy: 1.0000\n",
      "Epoch 54/100\n",
      "8/8 [==============================] - 0s 3ms/step - loss: 0.0159 - accuracy: 1.0000\n",
      "Epoch 55/100\n",
      "8/8 [==============================] - 0s 3ms/step - loss: 0.0155 - accuracy: 1.0000\n",
      "Epoch 56/100\n",
      "8/8 [==============================] - 0s 3ms/step - loss: 0.0131 - accuracy: 1.0000\n",
      "Epoch 57/100\n",
      "8/8 [==============================] - 0s 3ms/step - loss: 0.0133 - accuracy: 0.9959\n",
      "Epoch 58/100\n",
      "8/8 [==============================] - 0s 3ms/step - loss: 0.0138 - accuracy: 0.9959\n",
      "Epoch 59/100\n",
      "8/8 [==============================] - 0s 3ms/step - loss: 0.0111 - accuracy: 1.0000\n",
      "Epoch 60/100\n",
      "8/8 [==============================] - 0s 3ms/step - loss: 0.0118 - accuracy: 1.0000\n",
      "Epoch 61/100\n",
      "8/8 [==============================] - 0s 4ms/step - loss: 0.0099 - accuracy: 1.0000\n",
      "Epoch 62/100\n",
      "8/8 [==============================] - 0s 3ms/step - loss: 0.0097 - accuracy: 1.0000\n",
      "Epoch 63/100\n",
      "8/8 [==============================] - 0s 3ms/step - loss: 0.0089 - accuracy: 1.0000\n",
      "Epoch 64/100\n",
      "8/8 [==============================] - 0s 4ms/step - loss: 0.0081 - accuracy: 1.0000\n",
      "Epoch 65/100\n",
      "8/8 [==============================] - 0s 3ms/step - loss: 0.0076 - accuracy: 1.0000\n",
      "Epoch 66/100\n",
      "8/8 [==============================] - 0s 4ms/step - loss: 0.0075 - accuracy: 1.0000\n",
      "Epoch 67/100\n",
      "8/8 [==============================] - 0s 3ms/step - loss: 0.0071 - accuracy: 1.0000\n",
      "Epoch 68/100\n",
      "8/8 [==============================] - 0s 3ms/step - loss: 0.0071 - accuracy: 1.0000\n",
      "Epoch 69/100\n",
      "8/8 [==============================] - 0s 4ms/step - loss: 0.0065 - accuracy: 1.0000\n",
      "Epoch 70/100\n",
      "8/8 [==============================] - 0s 4ms/step - loss: 0.0065 - accuracy: 1.0000\n",
      "Epoch 71/100\n",
      "8/8 [==============================] - 0s 3ms/step - loss: 0.0060 - accuracy: 1.0000\n",
      "Epoch 72/100\n",
      "8/8 [==============================] - 0s 3ms/step - loss: 0.0065 - accuracy: 1.0000\n",
      "Epoch 73/100\n",
      "8/8 [==============================] - 0s 4ms/step - loss: 0.0074 - accuracy: 1.0000\n",
      "Epoch 74/100\n",
      "8/8 [==============================] - 0s 5ms/step - loss: 0.0059 - accuracy: 1.0000\n",
      "Epoch 75/100\n",
      "8/8 [==============================] - 0s 3ms/step - loss: 0.0055 - accuracy: 1.0000\n",
      "Epoch 76/100\n",
      "8/8 [==============================] - 0s 4ms/step - loss: 0.0052 - accuracy: 1.0000\n",
      "Epoch 77/100\n",
      "8/8 [==============================] - 0s 3ms/step - loss: 0.0050 - accuracy: 1.0000\n",
      "Epoch 78/100\n",
      "8/8 [==============================] - 0s 3ms/step - loss: 0.0051 - accuracy: 1.0000\n",
      "Epoch 79/100\n",
      "8/8 [==============================] - 0s 3ms/step - loss: 0.0049 - accuracy: 1.0000\n",
      "Epoch 80/100\n",
      "8/8 [==============================] - 0s 4ms/step - loss: 0.0047 - accuracy: 1.0000\n",
      "Epoch 81/100\n",
      "8/8 [==============================] - 0s 3ms/step - loss: 0.0052 - accuracy: 1.0000\n",
      "Epoch 82/100\n",
      "8/8 [==============================] - 0s 4ms/step - loss: 0.0047 - accuracy: 1.0000\n",
      "Epoch 83/100\n",
      "8/8 [==============================] - 0s 3ms/step - loss: 0.0043 - accuracy: 1.0000\n",
      "Epoch 84/100\n",
      "8/8 [==============================] - 0s 3ms/step - loss: 0.0055 - accuracy: 1.0000\n",
      "Epoch 85/100\n",
      "8/8 [==============================] - 0s 3ms/step - loss: 0.0039 - accuracy: 1.0000\n",
      "Epoch 86/100\n",
      "8/8 [==============================] - 0s 5ms/step - loss: 0.0039 - accuracy: 1.0000\n",
      "Epoch 87/100\n",
      "8/8 [==============================] - 0s 5ms/step - loss: 0.0040 - accuracy: 1.0000\n",
      "Epoch 88/100\n",
      "8/8 [==============================] - 0s 4ms/step - loss: 0.0049 - accuracy: 1.0000\n",
      "Epoch 89/100\n",
      "8/8 [==============================] - 0s 4ms/step - loss: 0.0045 - accuracy: 1.0000\n",
      "Epoch 90/100\n",
      "8/8 [==============================] - 0s 2ms/step - loss: 0.0036 - accuracy: 1.0000\n",
      "Epoch 91/100\n",
      "8/8 [==============================] - 0s 5ms/step - loss: 0.0039 - accuracy: 1.0000\n",
      "Epoch 92/100\n",
      "8/8 [==============================] - 0s 3ms/step - loss: 0.0032 - accuracy: 1.0000\n",
      "Epoch 93/100\n",
      "8/8 [==============================] - 0s 3ms/step - loss: 0.0037 - accuracy: 1.0000\n",
      "Epoch 94/100\n",
      "8/8 [==============================] - 0s 3ms/step - loss: 0.0031 - accuracy: 1.0000\n",
      "Epoch 95/100\n",
      "8/8 [==============================] - 0s 3ms/step - loss: 0.0031 - accuracy: 1.0000\n",
      "Epoch 96/100\n",
      "8/8 [==============================] - 0s 5ms/step - loss: 0.0027 - accuracy: 1.0000\n",
      "Epoch 97/100\n",
      "8/8 [==============================] - 0s 3ms/step - loss: 0.0030 - accuracy: 1.0000\n",
      "Epoch 98/100\n",
      "8/8 [==============================] - 0s 4ms/step - loss: 0.0026 - accuracy: 1.0000\n",
      "Epoch 99/100\n",
      "8/8 [==============================] - 0s 4ms/step - loss: 0.0023 - accuracy: 1.0000\n",
      "Epoch 100/100\n",
      "8/8 [==============================] - 0s 4ms/step - loss: 0.0036 - accuracy: 1.0000\n"
     ]
    }
   ],
   "source": [
    "model5 = Sequential()\n",
    "\n",
    "model5.add(Dense(10, input_shape = (x_train.shape[1],)))\n",
    "model5.add(Activation('relu'))\n",
    "model5.add(Dense(50, input_shape = (x_train.shape[1],)))\n",
    "model5.add(Activation('relu'))\n",
    "model5.add(Dense(100, input_shape = (x_train.shape[1],)))\n",
    "model5.add(Activation('relu'))\n",
    "model5.add(Dense(100, input_shape = (x_train.shape[1],)))\n",
    "model5.add(Activation('relu'))\n",
    "model5.add(Dense(2))\n",
    "model5.add(Activation(\"softmax\"))\n",
    "model5.compile(loss='categorical_crossentropy', optimizer='Adam', metrics=['accuracy'])\n",
    "history5= model5.fit(x_train, y_train, epochs=100)"
   ],
   "metadata": {
    "collapsed": false,
    "pycharm": {
     "name": "#%%\n"
    }
   }
  },
  {
   "cell_type": "code",
   "execution_count": 75,
   "outputs": [
    {
     "name": "stdout",
     "output_type": "stream",
     "text": [
      "2/2 [==============================] - 0s 4ms/step\n",
      "Model Accuracy: 0.7868852459016393\n"
     ]
    }
   ],
   "source": [
    "pred_x = model5.predict(x_test)\n",
    "y_val_pred = np.argmax(pred_x, axis=1)\n",
    "print(\"Model Accuracy:\", metrics.accuracy_score(y_test, y_val_pred))"
   ],
   "metadata": {
    "collapsed": false,
    "pycharm": {
     "name": "#%%\n"
    }
   }
  },
  {
   "cell_type": "code",
   "execution_count": 76,
   "outputs": [
    {
     "name": "stdout",
     "output_type": "stream",
     "text": [
      "Epoch 1/100\n",
      "8/8 [==============================] - 1s 4ms/step - loss: 0.7017 - accuracy: 0.5083\n",
      "Epoch 2/100\n",
      "8/8 [==============================] - 0s 6ms/step - loss: 0.6921 - accuracy: 0.5413\n",
      "Epoch 3/100\n",
      "8/8 [==============================] - 0s 4ms/step - loss: 0.6984 - accuracy: 0.5413\n",
      "Epoch 4/100\n",
      "8/8 [==============================] - 0s 5ms/step - loss: 0.6965 - accuracy: 0.4587\n",
      "Epoch 5/100\n",
      "8/8 [==============================] - 0s 5ms/step - loss: 0.6920 - accuracy: 0.5413\n",
      "Epoch 6/100\n",
      "8/8 [==============================] - 0s 5ms/step - loss: 0.6929 - accuracy: 0.5413\n",
      "Epoch 7/100\n",
      "8/8 [==============================] - 0s 5ms/step - loss: 0.6935 - accuracy: 0.4752\n",
      "Epoch 8/100\n",
      "8/8 [==============================] - 0s 4ms/step - loss: 0.6871 - accuracy: 0.5413\n",
      "Epoch 9/100\n",
      "8/8 [==============================] - 0s 4ms/step - loss: 0.6959 - accuracy: 0.5413\n",
      "Epoch 10/100\n",
      "8/8 [==============================] - 0s 4ms/step - loss: 0.7018 - accuracy: 0.4669\n",
      "Epoch 11/100\n",
      "8/8 [==============================] - 0s 4ms/step - loss: 0.6990 - accuracy: 0.5537\n",
      "Epoch 12/100\n",
      "8/8 [==============================] - 0s 4ms/step - loss: 0.6951 - accuracy: 0.5413\n",
      "Epoch 13/100\n",
      "8/8 [==============================] - 0s 3ms/step - loss: 0.6864 - accuracy: 0.5413\n",
      "Epoch 14/100\n",
      "8/8 [==============================] - 0s 2ms/step - loss: 0.6908 - accuracy: 0.5413\n",
      "Epoch 15/100\n",
      "8/8 [==============================] - 0s 3ms/step - loss: 0.6860 - accuracy: 0.5620\n",
      "Epoch 16/100\n",
      "8/8 [==============================] - 0s 3ms/step - loss: 0.6882 - accuracy: 0.5537\n",
      "Epoch 17/100\n",
      "8/8 [==============================] - 0s 3ms/step - loss: 0.6816 - accuracy: 0.5413\n",
      "Epoch 18/100\n",
      "8/8 [==============================] - 0s 3ms/step - loss: 0.6824 - accuracy: 0.6446\n",
      "Epoch 19/100\n",
      "8/8 [==============================] - 0s 4ms/step - loss: 0.6746 - accuracy: 0.5455\n",
      "Epoch 20/100\n",
      "8/8 [==============================] - 0s 3ms/step - loss: 0.6734 - accuracy: 0.5413\n",
      "Epoch 21/100\n",
      "8/8 [==============================] - 0s 4ms/step - loss: 0.6649 - accuracy: 0.6612\n",
      "Epoch 22/100\n",
      "8/8 [==============================] - 0s 2ms/step - loss: 0.6610 - accuracy: 0.6488\n",
      "Epoch 23/100\n",
      "8/8 [==============================] - 0s 4ms/step - loss: 0.6451 - accuracy: 0.7107\n",
      "Epoch 24/100\n",
      "8/8 [==============================] - 0s 6ms/step - loss: 0.6330 - accuracy: 0.7686\n",
      "Epoch 25/100\n",
      "8/8 [==============================] - 0s 4ms/step - loss: 0.6119 - accuracy: 0.6157\n",
      "Epoch 26/100\n",
      "8/8 [==============================] - 0s 3ms/step - loss: 0.5714 - accuracy: 0.7479\n",
      "Epoch 27/100\n",
      "8/8 [==============================] - 0s 3ms/step - loss: 0.5491 - accuracy: 0.8223\n",
      "Epoch 28/100\n",
      "8/8 [==============================] - 0s 3ms/step - loss: 0.5043 - accuracy: 0.8223\n",
      "Epoch 29/100\n",
      "8/8 [==============================] - 0s 3ms/step - loss: 0.4687 - accuracy: 0.8140\n",
      "Epoch 30/100\n",
      "8/8 [==============================] - 0s 2ms/step - loss: 0.4404 - accuracy: 0.8223\n",
      "Epoch 31/100\n",
      "8/8 [==============================] - 0s 3ms/step - loss: 0.4175 - accuracy: 0.8306\n",
      "Epoch 32/100\n",
      "8/8 [==============================] - 0s 3ms/step - loss: 0.4051 - accuracy: 0.8264\n",
      "Epoch 33/100\n",
      "8/8 [==============================] - 0s 3ms/step - loss: 0.4019 - accuracy: 0.8264\n",
      "Epoch 34/100\n",
      "8/8 [==============================] - 0s 3ms/step - loss: 0.3925 - accuracy: 0.8223\n",
      "Epoch 35/100\n",
      "8/8 [==============================] - 0s 3ms/step - loss: 0.3890 - accuracy: 0.8306\n",
      "Epoch 36/100\n",
      "8/8 [==============================] - 0s 3ms/step - loss: 0.3889 - accuracy: 0.8264\n",
      "Epoch 37/100\n",
      "8/8 [==============================] - 0s 3ms/step - loss: 0.3850 - accuracy: 0.8306\n",
      "Epoch 38/100\n",
      "8/8 [==============================] - 0s 3ms/step - loss: 0.3832 - accuracy: 0.8182\n",
      "Epoch 39/100\n",
      "8/8 [==============================] - 0s 3ms/step - loss: 0.3815 - accuracy: 0.8306\n",
      "Epoch 40/100\n",
      "8/8 [==============================] - 0s 3ms/step - loss: 0.3811 - accuracy: 0.8223\n",
      "Epoch 41/100\n",
      "8/8 [==============================] - 0s 3ms/step - loss: 0.3776 - accuracy: 0.8223\n",
      "Epoch 42/100\n",
      "8/8 [==============================] - 0s 3ms/step - loss: 0.3780 - accuracy: 0.8347\n",
      "Epoch 43/100\n",
      "8/8 [==============================] - 0s 4ms/step - loss: 0.3751 - accuracy: 0.8306\n",
      "Epoch 44/100\n",
      "8/8 [==============================] - 0s 3ms/step - loss: 0.3786 - accuracy: 0.8347\n",
      "Epoch 45/100\n",
      "8/8 [==============================] - 0s 4ms/step - loss: 0.3785 - accuracy: 0.8347\n",
      "Epoch 46/100\n",
      "8/8 [==============================] - 0s 4ms/step - loss: 0.3784 - accuracy: 0.8306\n",
      "Epoch 47/100\n",
      "8/8 [==============================] - 0s 4ms/step - loss: 0.3755 - accuracy: 0.8347\n",
      "Epoch 48/100\n",
      "8/8 [==============================] - 0s 4ms/step - loss: 0.3764 - accuracy: 0.8306\n",
      "Epoch 49/100\n",
      "8/8 [==============================] - 0s 3ms/step - loss: 0.3737 - accuracy: 0.8388\n",
      "Epoch 50/100\n",
      "8/8 [==============================] - 0s 3ms/step - loss: 0.3710 - accuracy: 0.8471\n",
      "Epoch 51/100\n",
      "8/8 [==============================] - 0s 4ms/step - loss: 0.3710 - accuracy: 0.8471\n",
      "Epoch 52/100\n",
      "8/8 [==============================] - 0s 4ms/step - loss: 0.3729 - accuracy: 0.8430\n",
      "Epoch 53/100\n",
      "8/8 [==============================] - 0s 4ms/step - loss: 0.3716 - accuracy: 0.8388\n",
      "Epoch 54/100\n",
      "8/8 [==============================] - 0s 3ms/step - loss: 0.3716 - accuracy: 0.8430\n",
      "Epoch 55/100\n",
      "8/8 [==============================] - 0s 3ms/step - loss: 0.3691 - accuracy: 0.8430\n",
      "Epoch 56/100\n",
      "8/8 [==============================] - 0s 4ms/step - loss: 0.3688 - accuracy: 0.8430\n",
      "Epoch 57/100\n",
      "8/8 [==============================] - 0s 3ms/step - loss: 0.3696 - accuracy: 0.8430\n",
      "Epoch 58/100\n",
      "8/8 [==============================] - 0s 2ms/step - loss: 0.3703 - accuracy: 0.8430\n",
      "Epoch 59/100\n",
      "8/8 [==============================] - 0s 3ms/step - loss: 0.3685 - accuracy: 0.8347\n",
      "Epoch 60/100\n",
      "8/8 [==============================] - 0s 3ms/step - loss: 0.3693 - accuracy: 0.8388\n",
      "Epoch 61/100\n",
      "8/8 [==============================] - 0s 3ms/step - loss: 0.3682 - accuracy: 0.8347\n",
      "Epoch 62/100\n",
      "8/8 [==============================] - 0s 3ms/step - loss: 0.3697 - accuracy: 0.8347\n",
      "Epoch 63/100\n",
      "8/8 [==============================] - 0s 3ms/step - loss: 0.3669 - accuracy: 0.8306\n",
      "Epoch 64/100\n",
      "8/8 [==============================] - 0s 3ms/step - loss: 0.3699 - accuracy: 0.8306\n",
      "Epoch 65/100\n",
      "8/8 [==============================] - 0s 5ms/step - loss: 0.3669 - accuracy: 0.8388\n",
      "Epoch 66/100\n",
      "8/8 [==============================] - 0s 5ms/step - loss: 0.3696 - accuracy: 0.8430\n",
      "Epoch 67/100\n",
      "8/8 [==============================] - 0s 4ms/step - loss: 0.3670 - accuracy: 0.8430\n",
      "Epoch 68/100\n",
      "8/8 [==============================] - 0s 3ms/step - loss: 0.3665 - accuracy: 0.8306\n",
      "Epoch 69/100\n",
      "8/8 [==============================] - 0s 3ms/step - loss: 0.3679 - accuracy: 0.8347\n",
      "Epoch 70/100\n",
      "8/8 [==============================] - 0s 3ms/step - loss: 0.3666 - accuracy: 0.8347\n",
      "Epoch 71/100\n",
      "8/8 [==============================] - 0s 3ms/step - loss: 0.3659 - accuracy: 0.8306\n",
      "Epoch 72/100\n",
      "8/8 [==============================] - 0s 3ms/step - loss: 0.3658 - accuracy: 0.8306\n",
      "Epoch 73/100\n",
      "8/8 [==============================] - 0s 3ms/step - loss: 0.3670 - accuracy: 0.8306\n",
      "Epoch 74/100\n",
      "8/8 [==============================] - 0s 3ms/step - loss: 0.3692 - accuracy: 0.8430\n",
      "Epoch 75/100\n",
      "8/8 [==============================] - 0s 4ms/step - loss: 0.3697 - accuracy: 0.8388\n",
      "Epoch 76/100\n",
      "8/8 [==============================] - 0s 4ms/step - loss: 0.3758 - accuracy: 0.8223\n",
      "Epoch 77/100\n",
      "8/8 [==============================] - 0s 3ms/step - loss: 0.3684 - accuracy: 0.8430\n",
      "Epoch 78/100\n",
      "8/8 [==============================] - 0s 3ms/step - loss: 0.3681 - accuracy: 0.8347\n",
      "Epoch 79/100\n",
      "8/8 [==============================] - 0s 3ms/step - loss: 0.3640 - accuracy: 0.8430\n",
      "Epoch 80/100\n",
      "8/8 [==============================] - 0s 4ms/step - loss: 0.3645 - accuracy: 0.8347\n",
      "Epoch 81/100\n",
      "8/8 [==============================] - 0s 3ms/step - loss: 0.3715 - accuracy: 0.8306\n",
      "Epoch 82/100\n",
      "8/8 [==============================] - 0s 2ms/step - loss: 0.3663 - accuracy: 0.8306\n",
      "Epoch 83/100\n",
      "8/8 [==============================] - 0s 4ms/step - loss: 0.3722 - accuracy: 0.8388\n",
      "Epoch 84/100\n",
      "8/8 [==============================] - 0s 2ms/step - loss: 0.3692 - accuracy: 0.8388\n",
      "Epoch 85/100\n",
      "8/8 [==============================] - 0s 3ms/step - loss: 0.3673 - accuracy: 0.8347\n",
      "Epoch 86/100\n",
      "8/8 [==============================] - 0s 3ms/step - loss: 0.3635 - accuracy: 0.8347\n",
      "Epoch 87/100\n",
      "8/8 [==============================] - 0s 4ms/step - loss: 0.3639 - accuracy: 0.8347\n",
      "Epoch 88/100\n",
      "8/8 [==============================] - 0s 4ms/step - loss: 0.3631 - accuracy: 0.8388\n",
      "Epoch 89/100\n",
      "8/8 [==============================] - 0s 4ms/step - loss: 0.3636 - accuracy: 0.8347\n",
      "Epoch 90/100\n",
      "8/8 [==============================] - 0s 5ms/step - loss: 0.3635 - accuracy: 0.8306\n",
      "Epoch 91/100\n",
      "8/8 [==============================] - 0s 3ms/step - loss: 0.3656 - accuracy: 0.8306\n",
      "Epoch 92/100\n",
      "8/8 [==============================] - 0s 3ms/step - loss: 0.3639 - accuracy: 0.8388\n",
      "Epoch 93/100\n",
      "8/8 [==============================] - 0s 3ms/step - loss: 0.3690 - accuracy: 0.8223\n",
      "Epoch 94/100\n",
      "8/8 [==============================] - 0s 4ms/step - loss: 0.3624 - accuracy: 0.8347\n",
      "Epoch 95/100\n",
      "8/8 [==============================] - 0s 3ms/step - loss: 0.3663 - accuracy: 0.8430\n",
      "Epoch 96/100\n",
      "8/8 [==============================] - 0s 3ms/step - loss: 0.3628 - accuracy: 0.8388\n",
      "Epoch 97/100\n",
      "8/8 [==============================] - 0s 4ms/step - loss: 0.3627 - accuracy: 0.8306\n",
      "Epoch 98/100\n",
      "8/8 [==============================] - 0s 3ms/step - loss: 0.3618 - accuracy: 0.8347\n",
      "Epoch 99/100\n",
      "8/8 [==============================] - 0s 3ms/step - loss: 0.3621 - accuracy: 0.8347\n",
      "Epoch 100/100\n",
      "8/8 [==============================] - 0s 3ms/step - loss: 0.3636 - accuracy: 0.8306\n"
     ]
    }
   ],
   "source": [
    "model6 = Sequential()\n",
    "\n",
    "model6.add(Dense(10, input_shape = (x_train.shape[1],)))\n",
    "model6.add(Activation('sigmoid'))\n",
    "model6.add(Dense(50, input_shape = (x_train.shape[1],)))\n",
    "model6.add(Activation('sigmoid'))\n",
    "model6.add(Dense(100, input_shape = (x_train.shape[1],)))\n",
    "model6.add(Activation('sigmoid'))\n",
    "model6.add(Dense(100, input_shape = (x_train.shape[1],)))\n",
    "model6.add(Activation('sigmoid'))\n",
    "model6.add(Dense(2))\n",
    "model6.add(Activation(\"softmax\"))\n",
    "model6.compile(loss='categorical_crossentropy', optimizer='Adam', metrics=['accuracy'])\n",
    "history6= model6.fit(x_train, y_train, epochs=100)"
   ],
   "metadata": {
    "collapsed": false,
    "pycharm": {
     "name": "#%%\n"
    }
   }
  },
  {
   "cell_type": "code",
   "execution_count": 77,
   "outputs": [
    {
     "name": "stdout",
     "output_type": "stream",
     "text": [
      "2/2 [==============================] - 0s 4ms/step\n",
      "Model Accuracy: 0.8688524590163934\n"
     ]
    }
   ],
   "source": [
    "pred_x = model6.predict(x_test)\n",
    "y_val_pred = np.argmax(pred_x, axis=1)\n",
    "print(\"Model Accuracy:\", metrics.accuracy_score(y_test, y_val_pred))"
   ],
   "metadata": {
    "collapsed": false,
    "pycharm": {
     "name": "#%%\n"
    }
   }
  },
  {
   "cell_type": "code",
   "execution_count": 78,
   "outputs": [
    {
     "data": {
      "text/plain": "<Figure size 432x288 with 1 Axes>",
      "image/png": "[encoded data removed]"
     },
     "metadata": {
      "needs_background": "light"
     },
     "output_type": "display_data"
    }
   ],
   "source": [
    "plt.plot(history.history['accuracy'], label=\"history\")\n",
    "plt.plot(history2.history['accuracy'], label=\"history2\")\n",
    "plt.plot(history3.history['accuracy'], label=\"history3\")\n",
    "plt.plot(history4.history['accuracy'], label=\"history4\")\n",
    "plt.plot(history5.history['accuracy'], label=\"history5\")\n",
    "plt.plot(history6.history['accuracy'], label=\"history6\")\n",
    "plt.legend()\n",
    "\n",
    "plt.show()"
   ],
   "metadata": {
    "collapsed": false,
    "pycharm": {
     "name": "#%%\n"
    }
   }
  }
 ],
 "metadata": {
  "kernelspec": {
   "display_name": "Python 3",
   "language": "python",
   "name": "python3"
  },
  "language_info": {
   "codemirror_mode": {
    "name": "ipython",
    "version": 2
   },
   "file_extension": ".py",
   "mimetype": "text/x-python",
   "name": "python",
   "nbconvert_exporter": "python",
   "pygments_lexer": "ipython2",
   "version": "2.7.6"
  }
 },
 "nbformat": 4,
 "nbformat_minor": 0
}